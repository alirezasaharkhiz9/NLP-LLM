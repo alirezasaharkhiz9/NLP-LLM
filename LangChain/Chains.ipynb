{
 "cells": [
  {
   "cell_type": "markdown",
   "id": "99885380-c115-4798-81fa-456255e5fab7",
   "metadata": {},
   "source": [
    "# Chains"
   ]
  },
  {
   "cell_type": "markdown",
   "id": "d408ce6e-68ea-4976-8fca-b55f902f16f5",
   "metadata": {},
   "source": [
    "## import library"
   ]
  },
  {
   "cell_type": "code",
   "execution_count": 60,
   "id": "f31a56c9-38d5-4246-b6a0-d1e4222e18d0",
   "metadata": {},
   "outputs": [],
   "source": [
    "# !pip install numexpr -q"
   ]
  },
  {
   "cell_type": "code",
   "execution_count": 66,
   "id": "b59bb8f0-0b54-4aa0-9b91-7fa43cfe8a6e",
   "metadata": {},
   "outputs": [],
   "source": [
    "# chat model\n",
    "from langchain_openai import ChatOpenAI\n",
    "from langchain.prompts.chat import ChatPromptTemplate, HumanMessagePromptTemplate\n",
    "from langchain.prompts import PromptTemplate\n",
    "from langchain.schema import HumanMessage\n",
    "\n",
    "# chain\n",
    "from langchain.chains import LLMChain\n",
    "from langchain.chains import SimpleSequentialChain, SequentialChain\n",
    "\n",
    "# mathchain\n",
    "from langchain import LLMMathChain\n",
    "\n",
    "# router chain\n",
    "from langchain.chains.router.multi_prompt_prompt import MULTI_PROMPT_ROUTER_TEMPLATE\n",
    "from langchain.chains.router.llm_router import LLMRouterChain, RouterOutputParser\n",
    "from langchain.chains.router import MultiPromptChain\n",
    "\n",
    "# QA document\n",
    "from langchain.vectorstores import Chroma\n",
    "from langchain_openai.embeddings import OpenAIEmbeddings\n",
    "from langchain.chains.question_answering import load_qa_chain\n",
    "# from langchain.chains.qa_with_sources import load_qa_with_sources_chain\n",
    "\n",
    "# markdown output\n",
    "from IPython.display import Markdown, display\n"
   ]
  },
  {
   "cell_type": "markdown",
   "id": "80489f8b-644c-4c6b-88c4-72ea1548685b",
   "metadata": {},
   "source": [
    "## llm chain - getting start"
   ]
  },
  {
   "cell_type": "code",
   "execution_count": 6,
   "id": "6b3bd1fd-0125-4399-a74d-9155de9aea72",
   "metadata": {},
   "outputs": [],
   "source": [
    "human_message = HumanMessagePromptTemplate.from_template(\n",
    "    'make up a funny company name for a company that makes: {product}'\n",
    ")"
   ]
  },
  {
   "cell_type": "code",
   "execution_count": 8,
   "id": "6fcb3ff6-f100-4d83-aac1-d11d41a09d49",
   "metadata": {},
   "outputs": [],
   "source": [
    "prompt = ChatPromptTemplate.from_messages([human_message])"
   ]
  },
  {
   "cell_type": "code",
   "execution_count": 27,
   "id": "26eb82c5-74d6-47b7-b989-32326c238789",
   "metadata": {},
   "outputs": [],
   "source": [
    "model = ChatOpenAI(\n",
    "    api_key='',\n",
    "    base_url='',\n",
    "    model=''\n",
    ")"
   ]
  },
  {
   "cell_type": "code",
   "execution_count": 11,
   "id": "c3c033d1-49e7-4dd1-8278-8cae9729349c",
   "metadata": {},
   "outputs": [
    {
     "name": "stderr",
     "output_type": "stream",
     "text": [
      "C:\\Users\\Alireza\\AppData\\Local\\Temp\\ipykernel_6380\\1109004433.py:1: LangChainDeprecationWarning: The class `LLMChain` was deprecated in LangChain 0.1.17 and will be removed in 1.0. Use :meth:`~RunnableSequence, e.g., `prompt | llm`` instead.\n",
      "  chain = LLMChain(\n"
     ]
    }
   ],
   "source": [
    "chain = LLMChain(\n",
    "    llm=model,\n",
    "    prompt=prompt\n",
    ")"
   ]
  },
  {
   "cell_type": "code",
   "execution_count": 13,
   "id": "3efabd58-cd27-412e-8f9d-260cb8a95ae5",
   "metadata": {},
   "outputs": [
    {
     "name": "stderr",
     "output_type": "stream",
     "text": [
      "C:\\Users\\Alireza\\AppData\\Local\\Temp\\ipykernel_6380\\1949383126.py:1: LangChainDeprecationWarning: The method `Chain.run` was deprecated in langchain 0.1.0 and will be removed in 1.0. Use :meth:`~invoke` instead.\n",
      "  result = chain.run(product='Artificial intelligence')\n"
     ]
    }
   ],
   "source": [
    "result = chain.run(product='Artificial intelligence')"
   ]
  },
  {
   "cell_type": "code",
   "execution_count": 15,
   "id": "30138f98-a0d7-45e9-8c4b-93a1a1254d14",
   "metadata": {},
   "outputs": [
    {
     "name": "stdout",
     "output_type": "stream",
     "text": [
      "Okay, here are some funny company names for an AI company, playing on different angles of humor:\n",
      "\n",
      "**Playing on AI Over-Promise/Under-Delivery:**\n",
      "\n",
      "*   **Maybe AI** (Emphasizes uncertainty)\n",
      "*   **Soon-To-Be-Sentient Systems** (Mocking the constant \"almost there\" hype.)\n",
      "*   **The Approximation Engine**\n",
      "*   **Slightly Better Than Nothing AI**\n",
      "*   **Good Enough Intelligence Corp.**\n",
      "\n",
      "**Playing on AI's Quirks/Potential for Error:**\n",
      "\n",
      "*   **The Algorithmic Glitch**\n",
      "*   **Oops! AI Solutions**\n",
      "*   **Binary Brews**\n",
      "*   **The Random Generator**\n",
      "*   **MyBot My Problem inc.**\n",
      "\n",
      "**Playing on a \"Tech Bro\" Vibe (Satirical):**\n",
      "\n",
      "*   **Disruptive Dots**\n",
      "*   **Code & Coffee Capital**\n",
      "*   **The Singularity Syndicate (but everything's actually pretty boring)**\n",
      "*   **Infinite Loops Inc.**\n",
      "*   **Alpha Alpha AI**\n",
      "\n",
      "**Playing on AI's Lack of Humanity/Empathy:**\n",
      "\n",
      "*   **The Unfeeling Oracle**\n",
      "*   **The Logic & Zero Emotion Company**\n",
      "*   **Cold Hard Calculations Ltd.**\n",
      "*   **Circuit Board & Chill Productions**\n",
      "*   **Syntax & Chill Corp**\n",
      "\n",
      "**Off-Kilter/Absurd Humor**\n",
      "\n",
      "*   **Robot Overlords (We're Just Joking...Maybe?)**\n",
      "*   **Brain Stew Technologies**\n",
      "*   **The Turing Testicle** (A bit risqué, depending on your market)\n",
      "*   **Algorithms R Us**\n",
      "*   **Sentient Spaghetti Company**\n",
      "\n",
      "Let me know if you'd like more, or if you have a specific type of humor in mind!\n"
     ]
    }
   ],
   "source": [
    "print(result)"
   ]
  },
  {
   "cell_type": "markdown",
   "id": "c036fc22-b3fa-4e11-b075-76e3a2a8af9a",
   "metadata": {},
   "source": [
    "## simple sequential chain"
   ]
  },
  {
   "cell_type": "markdown",
   "id": "27a6e507-2adb-42fd-9ee4-01c7c74946b2",
   "metadata": {},
   "source": [
    "![simple chain](1_GkhQHtaPz1PIbLIW43vQ-A.png)"
   ]
  },
  {
   "cell_type": "markdown",
   "id": "49361e3e-92d8-4a0b-b503-642279ba2a53",
   "metadata": {},
   "source": [
    "topic ---> chain 1 ---> a simple bullet point outline for a blog post\n",
    "\n",
    "a simple bullet point outline for a blog post ---> chain 2 ---> write a blog post"
   ]
  },
  {
   "cell_type": "code",
   "execution_count": 16,
   "id": "85baff3d-9ea8-46b3-adb9-438bc005e1bd",
   "metadata": {},
   "outputs": [],
   "source": [
    "prompt1 = ChatPromptTemplate.from_template(\n",
    "    'give me a simple bullet point outline for a blog post on {topic}'\n",
    ")\n",
    "\n",
    "chain1 = LLMChain(\n",
    "    llm=model,\n",
    "    prompt=prompt1\n",
    ")"
   ]
  },
  {
   "cell_type": "code",
   "execution_count": 17,
   "id": "c6ff222f-3e9f-4b6a-b919-8a3bcb3c2256",
   "metadata": {},
   "outputs": [],
   "source": [
    "prompt2 = ChatPromptTemplate.from_template(\n",
    "    'write a blog post using this outline: {outline}'\n",
    ")\n",
    "\n",
    "chain2 = LLMChain(\n",
    "    llm=model,\n",
    "    prompt=prompt2\n",
    ")"
   ]
  },
  {
   "cell_type": "code",
   "execution_count": 20,
   "id": "c08e3b47-9f0a-436d-88c6-7286118bba5e",
   "metadata": {},
   "outputs": [],
   "source": [
    "full_chain = SimpleSequentialChain(chains=[chain1, chain2], verbose=True)"
   ]
  },
  {
   "cell_type": "code",
   "execution_count": 25,
   "id": "123a1969-551a-41e7-8171-7c309a65ea7b",
   "metadata": {},
   "outputs": [
    {
     "name": "stdout",
     "output_type": "stream",
     "text": [
      "\n",
      "\n",
      "\u001b[1m> Entering new SimpleSequentialChain chain...\u001b[0m\n",
      "\u001b[36;1m\u001b[1;3mOkay, here's a simple bullet point outline for a blog post on LLMs (Large Language Models):\n",
      "\n",
      "*   **Introduction: What are LLMs?**\n",
      "    *   Short, engaging hook (related to recent LLM use/news)\n",
      "    *   Define LLMs in simple terms: \"AI that understands and generates human language\"\n",
      "    *   Briefly mention popular examples (ChatGPT, Bard, etc.)\n",
      "    *   Outline what the blog post will cover.\n",
      "\n",
      "*   **How LLMs Work (Simplified)**\n",
      "    *   No complex technical jargon!\n",
      "    *   Explain the \"training\" process: feeding them massive amounts of text\n",
      "    *   Focus on tokenization, pattern recognition (simplified explanation)\n",
      "    *   The \"prediction\" aspect: generating text based on patterns.\n",
      "    *   Analogy: (Example - like learning grammar rules and then writing/speaking in the same way)\n",
      "\n",
      "*   **What LLMs Can Do**\n",
      "    *   List of common LLM applications:\n",
      "        *   Text generation (articles, stories, poems)\n",
      "        *   Chatbots and Conversational AI\n",
      "        *   Translation\n",
      "        *   Summarization\n",
      "        *   Code writing/assistance\n",
      "        *   Idea generation\n",
      "        *   Content creation for fun (like a personalized poem)\n",
      "\n",
      "*   **Benefits of Using LLMs**\n",
      "    *   Efficiency: Automating tasks, saving time.\n",
      "    *   Accessibility: Making information more readily available..\n",
      "    *   Creativity: Boosting innovative ideas\n",
      "    *   Scalability: Handling large amounts of data and tasks.\n",
      "\n",
      "*   **Limitations and Concerns**\n",
      "    *   Potential for bias and misinformation.\n",
      "    *   Accuracy issues: Not always reliable.\n",
      "    *   Ethical considerations (e.g., plagiarism, deepfakes)\n",
      "    *   Focus on the importance of human oversight\n",
      "    *   Data Privacy Concerns\n",
      "\n",
      "*   **The Future of LLMs**\n",
      "    *   Briefly mention future possibilities: more sophisticated models, integrated into more areas, maybe multimodal integrations\n",
      "    *   Emphasize the ongoing development and rapid change. - LLMs are growing every day.\n",
      "\n",
      "*   **Conclusion**\n",
      "    *   Summarize key takeaways.\n",
      "    *   Reiterate the potential LLMs hold (both good and bad).\n",
      "    *   Optional: Call to action (e.g., \"Explore LLMs and see what you can do!\")or ask a question to encourage discussion.\n",
      "\u001b[0m\n",
      "\u001b[33;1m\u001b[1;3m## The Language Revolution: Understanding Large Language Models (LLMs)\n",
      "\n",
      "Did you see that news article about the AI that wrote a convincing poem... about… squirrels? Or maybe you’ve been experimenting with ChatGPT, playing with Bard, or just hearing whispers about the transformative power of AI? No matter where you're getting your LLM (Large Language Model) news, one thing is clear: artificial intelligence that understands and generates human language is here, and it's quickly changing the world.\n",
      "\n",
      "These powerful new tools, like ChatGPT and Bard, are designed to, well, understand and generate human language. In this blog post, we'll pull back the curtain and peek inside the world of LLMs. We'll break down how they work (in a way that avoids the tech jargon!), what they can do, the benefits they offer, the downsides to watch out for, and what the future might hold. Ready to dive in? Let's go!\n",
      "\n",
      "### How LLMs Work (Simplified!)\n",
      "\n",
      "Think of LLMs as incredibly sophisticated students of language. The process starts with **training**. Developers \"feed\" these models a huge amount of text data from the internet, books, articles - an almost unfathomable amount!\n",
      "\n",
      "Now, let’s get a bit more granular, but we’ll keep it simple. The training process involves:\n",
      "\n",
      "*   **Tokenization:** Imagine the model breaking down every word and sentence into smaller \"tokens\" – essentially, pieces of language.\n",
      "*   **Pattern Recognition:** The LLM meticulously analyzes the relationships between these tokens, identifying patterns, connections, and probabilities of what words often follow each other.\n",
      "\n",
      "The magic happens during the **prediction** phase. When you give an LLM a prompt, it uses the patterns it learned to predict the most likely next word, then the next, and the next, building a coherent response. Remember how you learned grammar in school and how to put together sentences? LLMs do something similar, on a massive and complex scale—just think, hundreds of thousands of grammar rules, instead of a few!\n",
      "\n",
      "### What LLMs Can Do: From Text to Code\n",
      "\n",
      "The capabilities of LLMs are truly impressive, and growing practically by the day. Here's just a glimpse of what they can do:\n",
      "\n",
      "*   **Text Generation:** Writing articles, creative stories, poems, scripts, scripts for websites, emails, and marketing copy.\n",
      "*   **Chatbots and Conversational AI:** Powering more natural and engaging customer service and virtual assistants.\n",
      "*   **Translation:** Instantly translating text between languages.\n",
      "*   **Summarization:** Condensing lengthy documents into concise summaries.\n",
      "*   **Code Writing/Assistance:** Helping developers write and debug code, providing suggestions, and even generating entire scripts.\n",
      "*   **Idea Generation:** Brainstorming ideas for business, content, or creative projects.\n",
      "*   **Content Creation (for fun!):** Writing personalized poems, creating jokes, designing characters, playing games.\n",
      "\n",
      "### The Bright Side: Benefits of Utilizing LLMs\n",
      "\n",
      "So, why are LLMs generating so much buzz? Here are some key benefits:\n",
      "\n",
      "*   **Efficiency:** LLMs can automate repetitive tasks, saving significant time and resources.\n",
      "*   **Accessibility:** LLMs make information more readily available, breaking down language barriers, and simplifying complex topics.\n",
      "*   **Creativity:** LLMs can spark innovative ideas, helping to overcome creative blocks and explore new possibilities.\n",
      "*   **Scalability:** LLMs can handle massive datasets and tasks, far exceeding human capacity.\n",
      "\n",
      "### Navigating the Challenges: Limitations and Concerns\n",
      "\n",
      "While the potential of LLMs is exciting, it's crucial to be aware of their limitations:\n",
      "\n",
      "*   **Potential for Bias and Misinformation:** LLMs can reflect biases present in their training data. Information they generate needs to be cross-checked.\n",
      "*   **Accuracy Issues:** LLMs are not infallible. They can sometimes generate inaccurate or nonsensical information.\n",
      "*   **Ethical Considerations:** Concerns around plagiarism, the creation of deepfakes, and the potential misuse of AI-generated content are real.\n",
      "*   **The Need for Human Oversight:** Always review and verify the output of an LLM. Human judgment and critical thinking are essential.\n",
      "*   **Data Privacy:** The handling of personal data used for training and interaction with LLMs raises important privacy questions.\n",
      "\n",
      "### The Road Ahead: The Future of LLMs\n",
      "\n",
      "The world of LLMs is rapidly evolving. We can expect to see:\n",
      "\n",
      "*   **More Sophisticated Models:** Models that are even better at understanding context, generating nuanced responses, and handling more complex tasks.\n",
      "*   **Wider Integration:** LLMs will become embedded in more aspects of our lives, from business to education to entertainment.\n",
      "*   **Multimodal Interactions:** LLMs will soon understand and generate not just text, but also images, audio, and video, bridging different areas of human life.\n",
      "\n",
      "The next few years will be a wild ride! LLMs are growing every day.\n",
      "\n",
      "### Conclusion: Embrace the AI Revolution (with Caution!)\n",
      "\n",
      "Large Language Models are undeniably powerful tools, holding both immense potential and significant challenges. By understanding how they work, what they can do, and their limitations, we can harness their benefits while mitigating potential risks.\n",
      "\n",
      "We’ve just scratched the surface of what’s possible with these incredible tools! I hope this breakdown provided you with a solid base of knowledge. Do you think LLMs are going to radically change your life? What are your thoughts? What concerns you most? Let me know in the comments!\n",
      "\u001b[0m\n",
      "\n",
      "\u001b[1m> Finished chain.\u001b[0m\n"
     ]
    }
   ],
   "source": [
    "result = full_chain.run('llm')"
   ]
  },
  {
   "cell_type": "code",
   "execution_count": 28,
   "id": "08c4dd8e-d812-4fbf-95b9-d81b6ab25c3f",
   "metadata": {},
   "outputs": [
    {
     "data": {
      "text/markdown": [
       "## The Language Revolution: Understanding Large Language Models (LLMs)\n",
       "\n",
       "Did you see that news article about the AI that wrote a convincing poem... about… squirrels? Or maybe you’ve been experimenting with ChatGPT, playing with Bard, or just hearing whispers about the transformative power of AI? No matter where you're getting your LLM (Large Language Model) news, one thing is clear: artificial intelligence that understands and generates human language is here, and it's quickly changing the world.\n",
       "\n",
       "These powerful new tools, like ChatGPT and Bard, are designed to, well, understand and generate human language. In this blog post, we'll pull back the curtain and peek inside the world of LLMs. We'll break down how they work (in a way that avoids the tech jargon!), what they can do, the benefits they offer, the downsides to watch out for, and what the future might hold. Ready to dive in? Let's go!\n",
       "\n",
       "### How LLMs Work (Simplified!)\n",
       "\n",
       "Think of LLMs as incredibly sophisticated students of language. The process starts with **training**. Developers \"feed\" these models a huge amount of text data from the internet, books, articles - an almost unfathomable amount!\n",
       "\n",
       "Now, let’s get a bit more granular, but we’ll keep it simple. The training process involves:\n",
       "\n",
       "*   **Tokenization:** Imagine the model breaking down every word and sentence into smaller \"tokens\" – essentially, pieces of language.\n",
       "*   **Pattern Recognition:** The LLM meticulously analyzes the relationships between these tokens, identifying patterns, connections, and probabilities of what words often follow each other.\n",
       "\n",
       "The magic happens during the **prediction** phase. When you give an LLM a prompt, it uses the patterns it learned to predict the most likely next word, then the next, and the next, building a coherent response. Remember how you learned grammar in school and how to put together sentences? LLMs do something similar, on a massive and complex scale—just think, hundreds of thousands of grammar rules, instead of a few!\n",
       "\n",
       "### What LLMs Can Do: From Text to Code\n",
       "\n",
       "The capabilities of LLMs are truly impressive, and growing practically by the day. Here's just a glimpse of what they can do:\n",
       "\n",
       "*   **Text Generation:** Writing articles, creative stories, poems, scripts, scripts for websites, emails, and marketing copy.\n",
       "*   **Chatbots and Conversational AI:** Powering more natural and engaging customer service and virtual assistants.\n",
       "*   **Translation:** Instantly translating text between languages.\n",
       "*   **Summarization:** Condensing lengthy documents into concise summaries.\n",
       "*   **Code Writing/Assistance:** Helping developers write and debug code, providing suggestions, and even generating entire scripts.\n",
       "*   **Idea Generation:** Brainstorming ideas for business, content, or creative projects.\n",
       "*   **Content Creation (for fun!):** Writing personalized poems, creating jokes, designing characters, playing games.\n",
       "\n",
       "### The Bright Side: Benefits of Utilizing LLMs\n",
       "\n",
       "So, why are LLMs generating so much buzz? Here are some key benefits:\n",
       "\n",
       "*   **Efficiency:** LLMs can automate repetitive tasks, saving significant time and resources.\n",
       "*   **Accessibility:** LLMs make information more readily available, breaking down language barriers, and simplifying complex topics.\n",
       "*   **Creativity:** LLMs can spark innovative ideas, helping to overcome creative blocks and explore new possibilities.\n",
       "*   **Scalability:** LLMs can handle massive datasets and tasks, far exceeding human capacity.\n",
       "\n",
       "### Navigating the Challenges: Limitations and Concerns\n",
       "\n",
       "While the potential of LLMs is exciting, it's crucial to be aware of their limitations:\n",
       "\n",
       "*   **Potential for Bias and Misinformation:** LLMs can reflect biases present in their training data. Information they generate needs to be cross-checked.\n",
       "*   **Accuracy Issues:** LLMs are not infallible. They can sometimes generate inaccurate or nonsensical information.\n",
       "*   **Ethical Considerations:** Concerns around plagiarism, the creation of deepfakes, and the potential misuse of AI-generated content are real.\n",
       "*   **The Need for Human Oversight:** Always review and verify the output of an LLM. Human judgment and critical thinking are essential.\n",
       "*   **Data Privacy:** The handling of personal data used for training and interaction with LLMs raises important privacy questions.\n",
       "\n",
       "### The Road Ahead: The Future of LLMs\n",
       "\n",
       "The world of LLMs is rapidly evolving. We can expect to see:\n",
       "\n",
       "*   **More Sophisticated Models:** Models that are even better at understanding context, generating nuanced responses, and handling more complex tasks.\n",
       "*   **Wider Integration:** LLMs will become embedded in more aspects of our lives, from business to education to entertainment.\n",
       "*   **Multimodal Interactions:** LLMs will soon understand and generate not just text, but also images, audio, and video, bridging different areas of human life.\n",
       "\n",
       "The next few years will be a wild ride! LLMs are growing every day.\n",
       "\n",
       "### Conclusion: Embrace the AI Revolution (with Caution!)\n",
       "\n",
       "Large Language Models are undeniably powerful tools, holding both immense potential and significant challenges. By understanding how they work, what they can do, and their limitations, we can harness their benefits while mitigating potential risks.\n",
       "\n",
       "We’ve just scratched the surface of what’s possible with these incredible tools! I hope this breakdown provided you with a solid base of knowledge. Do you think LLMs are going to radically change your life? What are your thoughts? What concerns you most? Let me know in the comments!\n"
      ],
      "text/plain": [
       "<IPython.core.display.Markdown object>"
      ]
     },
     "metadata": {},
     "output_type": "display_data"
    }
   ],
   "source": [
    "# output markdown\n",
    "display(Markdown(result))"
   ]
  },
  {
   "cell_type": "markdown",
   "id": "051974b1-7b57-4664-b58d-e40dfe9d11a1",
   "metadata": {},
   "source": [
    "## sequential chain"
   ]
  },
  {
   "cell_type": "markdown",
   "id": "6c74689f-9a87-44a8-927f-397534d2c856",
   "metadata": {},
   "source": [
    "review text ---> chain 1 ---> summary\n",
    "\n",
    "summary ---> chain 2 ---> weakneses\n",
    "\n",
    "weakneses ---> chain 3 ---> improvement plan"
   ]
  },
  {
   "cell_type": "code",
   "execution_count": 40,
   "id": "ccf1d8da-2910-4ee1-a150-4848c95fe3b8",
   "metadata": {},
   "outputs": [],
   "source": [
    "prompt1 = ChatPromptTemplate.from_template(\n",
    "    \"Give a summary of this employee's performance review:\\n{text}\"\n",
    ")\n",
    "\n",
    "chain1 = LLMChain(llm=model, prompt=prompt1, output_key='text_summary')"
   ]
  },
  {
   "cell_type": "code",
   "execution_count": 44,
   "id": "c9374bce-e02f-4301-b6dd-af101dee8c64",
   "metadata": {},
   "outputs": [],
   "source": [
    "prompt2 = ChatPromptTemplate.from_template(\n",
    "    'Identify key employee weaknesses in this review summary:\\n{text_summary}'\n",
    ")\n",
    "\n",
    "chain2 = LLMChain(llm=model, prompt=prompt2, output_key='text_weakneses')"
   ]
  },
  {
   "cell_type": "code",
   "execution_count": 45,
   "id": "e6bbbf97-61cc-4998-a906-914e982da42d",
   "metadata": {},
   "outputs": [],
   "source": [
    "prompt3 = ChatPromptTemplate.from_template(\n",
    "    'Create a personalized plan to help address and fix these weaknesses:\\n{text_weakneses}'\n",
    ")\n",
    "\n",
    "chain3 = LLMChain(llm=model, prompt=prompt3, output_key='plan')"
   ]
  },
  {
   "cell_type": "code",
   "execution_count": 46,
   "id": "0b4e62f9-6def-4d87-9162-8583736b1a1f",
   "metadata": {},
   "outputs": [],
   "source": [
    "full_chain = SequentialChain(\n",
    "    chains=[chain1, chain2, chain3],\n",
    "    input_variables=['text'],\n",
    "    output_variables=['text_summary', 'text_weakneses', 'plan'],\n",
    "    verbose=True\n",
    ")"
   ]
  },
  {
   "cell_type": "code",
   "execution_count": 47,
   "id": "33bcdac9-bca1-4698-b9d2-b184c1c140f7",
   "metadata": {},
   "outputs": [],
   "source": [
    "employee_review = '''\n",
    "Employee Information:\n",
    "Name: Joe Schmo\n",
    "Position: Software Engineer\n",
    "Date of Review: July 14, 2023\n",
    "\n",
    "Strengths:\n",
    "Joe is a highly skilled software engineer with a deep understanding of programming languages, algorithms, and software development best practices. His technical expertise shines through in his ability to efficiently solve complex problems and deliver high-quality code.\n",
    "\n",
    "One of Joe's greatest strengths is his collaborative nature. He actively engages with cross-functional teams, contributing valuable insights and seeking input from others. His open-mindedness and willingness to learn from colleagues make him a true team player.\n",
    "\n",
    "Joe consistently demonstrates initiative and self-motivation. He takes the lead in seeking out new projects and challenges, and his proactive attitude has led to significant improvements in existing processes and systems. His dedication to self-improvement and growth is commendable.\n",
    "\n",
    "Another notable strength is Joe's adaptability. He has shown great flexibility in handling changing project requirements and learning new technologies. This adaptability allows him to seamlessly transition between different projects and tasks, making him a valuable asset to the team.\n",
    "\n",
    "Joe's problem-solving skills are exceptional. He approaches issues with a logical mindset and consistently finds effective solutions, often thinking outside the box. His ability to break down complex problems into manageable parts is key to his success in resolving issues efficiently.\n",
    "\n",
    "Weaknesses:\n",
    "While Joe possesses numerous strengths, there are a few areas where he could benefit from improvement. One such area is time management. Occasionally, Joe struggles with effectively managing his time, resulting in missed deadlines or the need for additional support to complete tasks on time. Developing better prioritization and time management techniques would greatly enhance his efficiency.\n",
    "\n",
    "Another area for improvement is Joe's written communication skills. While he communicates well verbally, there have been instances where his written documentation lacked clarity, leading to confusion among team members. Focusing on enhancing his written communication abilities will help him effectively convey ideas and instructions.\n",
    "\n",
    "Additionally, Joe tends to take on too many responsibilities and hesitates to delegate tasks to others. This can result in an excessive workload and potential burnout. Encouraging him to delegate tasks appropriately will not only alleviate his own workload but also foster a more balanced and productive team environment.\n",
    "'''"
   ]
  },
  {
   "cell_type": "code",
   "execution_count": 49,
   "id": "e3fc03db-ad03-4618-a256-247360de0edc",
   "metadata": {},
   "outputs": [
    {
     "name": "stderr",
     "output_type": "stream",
     "text": [
      "C:\\Users\\Alireza\\AppData\\Local\\Temp\\ipykernel_6380\\778759237.py:1: LangChainDeprecationWarning: The method `Chain.__call__` was deprecated in langchain 0.1.0 and will be removed in 1.0. Use :meth:`~invoke` instead.\n",
      "  result = full_chain(employee_review)\n"
     ]
    },
    {
     "name": "stdout",
     "output_type": "stream",
     "text": [
      "\n",
      "\n",
      "\u001b[1m> Entering new SequentialChain chain...\u001b[0m\n",
      "\n",
      "\u001b[1m> Finished chain.\u001b[0m\n"
     ]
    }
   ],
   "source": [
    "result = full_chain(employee_review)"
   ]
  },
  {
   "cell_type": "code",
   "execution_count": 54,
   "id": "4c8871a7-aece-42a1-9ad6-4cf1057bca18",
   "metadata": {},
   "outputs": [
    {
     "data": {
      "text/markdown": [
       "Okay, let's create a personalized plan to address these weaknesses.  This plan will be customized to help improve your time management, clarity in written communication, and delegation skills.  We'll break it down into actionable steps, resources, and a timeline.\n",
       "\n",
       "**1. Self-Assessment & Goal Setting (Week 1)**\n",
       "\n",
       "*   **Action:**  Before we start, spend a few hours reflecting on each weakness:\n",
       "    *   **Time Management:**\n",
       "        *   **Diagnosis:**  What specifically makes time management challenging?  (e.g., Procrastination? Overcommitting?  Inefficient task switching? Difficulty prioritizing?  Being easily distracted?) Keep a log of where your time goes for a day or two to find the common issues.\n",
       "        *   **Goal:**  Set TWO SMART goals (Specific, Measurable, Achievable, Relevant, Time-bound) related to time management. Examples:\n",
       "            *   \"By [Date - e.g., end of the week/month], I will consistently use a to-do list with prioritized tasks each workday.\"\n",
       "            *   \"By [Date], I will be able to estimate the duration of work projects.\"\n",
       "            *  \"In the next week I will have a more concrete schedule.\"\n",
       "    *   **Clarity in Written Communication:**\n",
       "        *   **Diagnosis:**  What specific problems do others have with your writing?  (e.g., Too wordy? Vague language?  Poor grammar/spelling?  Disorganized structure? Lack of a clear point?)  Consider asking a trusted colleague to review some recent emails or reports and provide feedback.\n",
       "        *   **Goal:** Set TWO SMART goals related to clarity in written communication. Examples:\n",
       "            *   \"By [Date], all my emails will start with a clear subject line summarizing the main purpose of the email.\"\n",
       "            *   \"By [Date], I will reduce the average length of my emails by 20% while still conveying the necessary information.\"\n",
       "            *  \"In the next week I will ask a colleague for feedback on a work report.\"\n",
       "    *   **Delegation Skills:**\n",
       "        *   **Diagnosis:**  What prevents you from delegating? (e.g., Difficulty trusting others to do the work?  Need for perfection?  Lack of clarity in providing instructions?  Fear of being seen as not working hard enough?)  Have you been given reasons why delegation is not working?\n",
       "        *   **Goal:**  Set TWO SMART goals related to delegation. Examples:\n",
       "            *   \"By [Date], I will delegate at least one task per week to a team member.\"\n",
       "            *   \"By [Date], I will prepare clear written instructions and provide appropriate resources for delegated tasks.\"\n",
       "            *   \"By the end of the month I will be capable and willing to pass on an entire project, providing support as needed, to a member of my team.\"\n",
       "*   **Deliverable:**  A written document outlining your self-assessment for each area and your SMART goals.\n",
       "*   **Actions to Take:**\n",
       "    *   **Keep a record of your time:** Use a time-tracking app or a simple notebook to log how you spend your time at work. Note which activities consume the most time and identify potential areas for improvement.\n",
       "    *   **Request Reviews:** Ask a trusted colleague to look at your past work with an eye towards the listed attributes (Clarity, Time issues, etc.).\n",
       "\n",
       "**2.  Time Management Implementation (Weeks 2-4 - Ongoing)**\n",
       "\n",
       "*   **Focus:**  Improving organization, prioritization, and execution.\n",
       "*   **Actionable Steps:**\n",
       "    *   **Implement Time Management Techniques:**\n",
       "        *   **To-Do Lists:**  Use a daily or weekly to-do list.  Prioritize tasks using a system like:\n",
       "            *   **Eisenhower Matrix (Urgent/Important):**  Focus on tasks in the \"Urgent & Important\" and, \"Important but Not Urgent\" categories.\n",
       "            *   **Pareto Principle (80/20 Rule):**  Identify the 20% of tasks that generate 80% of your results and prioritize those.\n",
       "        *   **Time Blocking:**  Allocate specific blocks of time in your calendar for specific tasks or types of work (e.g., email, report writing, meetings). Put these blocks in your calendar as \"appointments with yourself.\"\n",
       "        *   **Pomodoro Technique:** Work in focused 25-minute intervals with short breaks in between to improve concentration.\n",
       "        *   **Calendar Management:** Schedule everything (meetings, deadlines, personal appointments).  Color-code for different project categories or types of activities. Set reminders.\n",
       "    *   **Minimize Distractions:**\n",
       "        *   **Email Management:**  Schedule specific times to check and respond to emails (e.g., twice a day). Turn off email notifications during focused work periods.\n",
       "        *   **Communication Boundaries:**  Inform colleagues when you need uninterrupted work time.  Close unnecessary tabs or applications on your computer.\n",
       "        *   **Physical Workspace:**  Organize your physical workspace to minimize visual clutter.\n",
       "    *   **Estimate Time Accurately:**  When planning tasks, estimate how long they'll take. Track how long they *actually* take to improve your future estimations.\n",
       "*   **Resources:**\n",
       "    *   **Apps/Tools:**\n",
       "        *   **To-Do List Apps:**  Todoist, Microsoft To Do, Google Tasks.\n",
       "        *   **Calendar Apps:**  Google Calendar, Outlook Calendar.\n",
       "        *   **Time Tracking Apps:** Toggl Track, Harvest.\n",
       "        *   **Focus Apps:** Freedom (blocks distracting websites and apps), SelfControl (Mac only).\n",
       "    *   **Reading/Online Resources:**\n",
       "        *   \"Getting Things Done\" by David Allen (Book).\n",
       "        *   Articles and blog posts on time management (e.g., from Harvard Business Review, Forbes).\n",
       "*   **Deliverable:**  Regularly review your time log to make sure you are meeting your goals. Implement a regular review as a habit.\n",
       "\n",
       "**3. Clarity in Written Communication Training & Practice (Weeks 2-4 - Ongoing)**\n",
       "\n",
       "*   **Focus:**  Improving conciseness, structure, and clarity in written communication.\n",
       "*   **Actionable Steps:**\n",
       "    *   **Learn Principles of Effective Writing:**\n",
       "        *   **Conciseness:**  Eliminate unnecessary words and phrases.  Use the active voice.\n",
       "        *   **Structure:**  Use clear headings, subheadings, and bullet points to organize information.\n",
       "        *   **Clarity:**  Avoid jargon and technical terms that the audience may not understand.  Use plain language.  State the main point clearly.\n",
       "        *   **Grammar & Spelling:**  Carefully proofread everything. Use a grammar checker (e.g., Grammarly).\n",
       "        *   **Tone:** Match your tone to your message.\n",
       "    *   **Practice:**\n",
       "        *   **Email Practice:**  Rewrite old emails to be more concise and clear. Practice the following:\n",
       "            *   **Use a clear, concise subject line:** Be as clear as possible in your email subject line.\n",
       "            *   **Start with a clear point:** Start with the main point of your email. It's important to avoid beating around the bush--get straight to the point!\n",
       "            *   **Break your writing down:** This will improve readability.\n",
       "        *   **Report Practice:**  Practice writing elements of your reports. Do these things:\n",
       "            *   **Look up information:** What are the main points you're conveying in reports? Review the process for writing those reports.\n",
       "            *   **Create an outline:** Before writing a report, create an outline to logically organize the information.\n",
       "            *   **Focus on the data:** When reviewing previously created components of a report, be sure all the critical information is included.\n",
       "    *   **Seek Feedback:**  Ask colleagues or your supervisor to review your written work and provide constructive feedback on your clarity, structure, and conciseness.\n",
       "*   **Resources:**\n",
       "    *   **Grammar & Style Guides:**  The Chicago Manual of Style, The Associated Press Stylebook, The Elements of Style (Book).\n",
       "    *   **Online Resources:** Purdue OWL (Online Writing Lab) - A website with useful writing resources.\n",
       "    *   **Feedback:**  Ask your supervisor for feedback on recent emails/reports.\n",
       "*   **Deliverable:**  Submit (to yourself) weekly rewritten emails or short documents that focus on applying learned principles.\n",
       "\n",
       "**4. Delegation - Implementation and Refinement (Weeks 3-Ongoing)**\n",
       "\n",
       "*   **Focus:**  Developing the skills and confidence to delegate tasks effectively.\n",
       "*   **Actionable Steps:**\n",
       "    *   **Identify Delegatable Tasks:**  Make a list of tasks you currently handle that:\n",
       "        *   Can be done by others.\n",
       "        *   Are not critical to your core responsibilities.\n",
       "        *   Present an opportunity for team members to develop new skills.\n",
       "    *   **Choose the Right Person:**  Consider:\n",
       "        *   Team member's skills and experience.\n",
       "        *   Team member's workload.\n",
       "        *   Team member's interest in the task.\n",
       "    *   **Provide Clear Instructions & Resources:**\n",
       "        *   **Clearly define the task:**  What needs to be done, and what's the desired outcome?\n",
       "        *   **Provide clear instructions:** Written instructions are very important, especially if you're not able to actively monitor the process.\n",
       "        *   **Set deadlines:**  Give a clear date for when the task needs to be completed, as well as any necessary resources.\n",
       "        *   **Provide necessary resources:**  Make sure the team member has access to the tools, information, and resources they need.\n",
       "        *   **Clarify Expectations:** Ensure the new delegatee has an overall understanding of the tasks.\n",
       "        *   **Review Progress:**  If the project is long, check in along the way, not just at the end.\n",
       "    *   **Empowerment & Trust:**\n",
       "        *   **Give autonomy:** Allow the team member to make decisions about how to accomplish the task (within agreed-upon parameters).\n",
       "        *   **Offer support:** Be available to answer questions, provide guidance, and troubleshoot problems.\n",
       "        *   **Provide feedback (positive and constructive):** Acknowledge excellent work and look at areas that can be refined. This helps create an open culture.\n",
       "    *   **Start small:**\n",
       "        *   **Begin with a simple task and work in stages:** The more complex a project is, the more difficult it can be to learn to delegate it effectively.\n",
       "    *   **Document the process:**\n",
       "        *   **Create a record-keeping system:** This helps improve the delegation process.\n",
       "*   **Resources:**\n",
       "    *   **\"The Effective Executive\" by Peter Drucker (Book):**  Although not solely about delegation, valuable for managing work.\n",
       "    *   **Mentorship:** Seek guidance from a more experienced manager within your company who excels at delegation.\n",
       "*   **Deliverable:**  Document each delegated task, including the task itself, recipients, instructions, and progress. Include all feedback.\n",
       "\n",
       "**5.  Review & Adjustment (Ongoing)**\n",
       "\n",
       "*   **Action:**  Throughout the plan, regularly review your progress against your SMART goals.  At least once a week, and definitely at the end of each month.\n",
       "    *   **Track Results:**  Are you using your time more effectively? Are your emails clearer? Are you delegating tasks, and are they being completed successfully?\n",
       "    *   **Evaluate:**  What's working well? What's not? What challenges are you facing?\n",
       "    *   **Adjust:**  Based on your evaluation, adjust your action steps, goals, or resources as needed.  Don't be afraid to pivot!\n",
       "    *   **Celebrate Successes:** Acknowledge and celebrate your accomplishments! This will help you stay motivated.\n",
       "*   **Deliverable:**  A self-assessment that reflects on your progress to date and adjusts or renews your goals.\n",
       "\n",
       "**Key Considerations & Additional Tips:**\n",
       "\n",
       "*   **Be Patient:** Changing ingrained habits takes time and effort. Don't get discouraged if you don't see results immediately.\n",
       "*   **Consistency is Key:**  Stick to your plan and regularly practice the strategies.\n",
       "*   **Seek Support:**  Talk to your supervisor, a mentor, or a colleague about your goals and progress. Ask for feedback and guidance.\n",
       "*   **Don't Overwhelm Yourself:** Start with a few key areas of focus, and gradually incorporate more strategies.\n",
       "*   **Prioritize the Most Critical Issues:**  Focus your energy on the weaknesses that have the biggest negative impact on your performance and your team's goals.\n",
       "*   **Consider External Training:** If your company offers training on time management, writing skills, or leadership, take advantage of it.\n",
       "*   **Make it Habitual:** Set regular reminders to review progress and continue to apply these practices even after seeing improvement.\n",
       "\n",
       "This personalized plan is a starting point.  Customize it to your specific needs and the resources available to you. Good luck! Let me know if you have any questions as you work through the plan.\n"
      ],
      "text/plain": [
       "<IPython.core.display.Markdown object>"
      ]
     },
     "metadata": {},
     "output_type": "display_data"
    }
   ],
   "source": [
    "display(Markdown(result['plan']))"
   ]
  },
  {
   "cell_type": "code",
   "execution_count": 55,
   "id": "37737f14-7a90-478a-9dc0-7ae909ac17ea",
   "metadata": {},
   "outputs": [
    {
     "data": {
      "text/markdown": [
       "The key employee weaknesses identified in the review are:\n",
       "\n",
       "*   **Time Management:** In need of improvement.\n",
       "*   **Clarity in Written Communication:** Needs improvement.\n",
       "*   **Delegation Skills:** Needs improvement.\n"
      ],
      "text/plain": [
       "<IPython.core.display.Markdown object>"
      ]
     },
     "metadata": {},
     "output_type": "display_data"
    }
   ],
   "source": [
    "display(Markdown(result['text_weakneses']))"
   ]
  },
  {
   "cell_type": "code",
   "execution_count": 57,
   "id": "61c42d05-5a17-4df0-b349-f2580d239f0e",
   "metadata": {},
   "outputs": [
    {
     "data": {
      "text/plain": [
       "dict_keys(['text', 'text_summary', 'text_weakneses', 'plan'])"
      ]
     },
     "execution_count": 57,
     "metadata": {},
     "output_type": "execute_result"
    }
   ],
   "source": [
    "result.keys()"
   ]
  },
  {
   "cell_type": "markdown",
   "id": "a0e61da7-316c-40b0-882b-1128642dfee5",
   "metadata": {},
   "source": [
    "## llm router chain"
   ]
  },
  {
   "cell_type": "markdown",
   "id": "4f524ce2-dd1f-4fca-974f-4d4fb2b181e5",
   "metadata": {},
   "source": [
    "![router chain](1721193465852.png)"
   ]
  },
  {
   "cell_type": "markdown",
   "id": "1ed6d752-0b45-41a1-8b40-444975f3eb19",
   "metadata": {},
   "source": [
    "input ---> router ---> select chain ---> chain ---> output"
   ]
  },
  {
   "cell_type": "code",
   "execution_count": 6,
   "id": "95a8c2e7-19ca-4f7d-ab82-0faaea3288b4",
   "metadata": {},
   "outputs": [],
   "source": [
    "beginner_template = '''You are a physics teacher who is really focused on beginners and explaining complex topics in simple to understand terms. You assume no prior knowledge. Here is the question\\n{input}'''"
   ]
  },
  {
   "cell_type": "code",
   "execution_count": 7,
   "id": "95e59b85-f855-4f46-a289-cc25315d3603",
   "metadata": {},
   "outputs": [],
   "source": [
    "expert_template = '''You are a world expert physics professor who explains physics topics to advanced audience members. You can assume anyone you answer has a PhD level understanding of Physics. Here is the question\\n{input}'''"
   ]
  },
  {
   "cell_type": "code",
   "execution_count": 9,
   "id": "174a9726-7157-4c8c-9767-501d4fd484c6",
   "metadata": {},
   "outputs": [],
   "source": [
    "prompt_infos = [\n",
    "    dict(\n",
    "        name='beginner',\n",
    "        description='Answers basic beginner physics questions',\n",
    "        template=beginner_template\n",
    "    ),\n",
    "    dict(\n",
    "        name='expert',\n",
    "        description='Answers advanced physics questions',\n",
    "        template=expert_template\n",
    "    )\n",
    "]"
   ]
  },
  {
   "cell_type": "code",
   "execution_count": 10,
   "id": "caa58c25-2fe9-421e-9e6d-c2e5978cf353",
   "metadata": {},
   "outputs": [
    {
     "name": "stdout",
     "output_type": "stream",
     "text": [
      "[{'name': 'beginner', 'description': 'Answers basic beginner physics questions', 'template': 'You are a physics teacher who is really focused on beginners and explaining complex topics in simple to understand terms. You assume no prior knowledge. Here is the question\\n{input}'}, {'name': 'expert', 'description': 'Answers advanced physics questions', 'template': 'You are a world expert physics professor who explains physics topics to advanced audience members. You can assume anyone you answer has a PhD level understanding of Physics. Here is the question\\n{input}'}]\n"
     ]
    }
   ],
   "source": [
    "print(prompt_infos)"
   ]
  },
  {
   "cell_type": "code",
   "execution_count": 12,
   "id": "efe1eee4-cd49-4301-ab34-3ecbf9651693",
   "metadata": {},
   "outputs": [],
   "source": [
    "destinations = [     f\"{i['name']}: {i['description']}\"      for i in prompt_infos]"
   ]
  },
  {
   "cell_type": "code",
   "execution_count": 14,
   "id": "41842729-b6d7-416b-ba5d-2a2c0938fbec",
   "metadata": {},
   "outputs": [
    {
     "data": {
      "text/plain": [
       "['beginner: Answers basic beginner physics questions',\n",
       " 'expert: Answers advanced physics questions']"
      ]
     },
     "execution_count": 14,
     "metadata": {},
     "output_type": "execute_result"
    }
   ],
   "source": [
    "destinations"
   ]
  },
  {
   "cell_type": "code",
   "execution_count": 15,
   "id": "4853bf0f-9fab-4656-bc05-133b1d718ab3",
   "metadata": {},
   "outputs": [],
   "source": [
    "destination_str = '\\n'.join(destinations)"
   ]
  },
  {
   "cell_type": "code",
   "execution_count": 18,
   "id": "8421fc6b-7f10-4242-8ad7-629bd6aeca11",
   "metadata": {},
   "outputs": [
    {
     "name": "stdout",
     "output_type": "stream",
     "text": [
      "beginner: Answers basic beginner physics questions\n",
      "expert: Answers advanced physics questions\n"
     ]
    }
   ],
   "source": [
    "# for router format\n",
    "print(destination_str)"
   ]
  },
  {
   "cell_type": "code",
   "execution_count": 35,
   "id": "287ee39f-d1b2-483f-bfd8-4e4f65276cec",
   "metadata": {},
   "outputs": [],
   "source": [
    "destination_chains = {}\n",
    "for p_info in prompt_infos:\n",
    "    name = p_info[\"name\"]\n",
    "    prompt_template = p_info[\"template\"]\n",
    "    prompt = ChatPromptTemplate.from_template(template=prompt_template)\n",
    "    chain = LLMChain(llm=model, prompt=prompt)\n",
    "    destination_chains[name] = chain"
   ]
  },
  {
   "cell_type": "code",
   "execution_count": 39,
   "id": "4a9e8eb3-70e0-4255-b4df-a9ede48af14b",
   "metadata": {},
   "outputs": [
    {
     "name": "stdout",
     "output_type": "stream",
     "text": [
      "{'beginner': LLMChain(verbose=False, prompt=ChatPromptTemplate(input_variables=['input'], input_types={}, partial_variables={}, messages=[HumanMessagePromptTemplate(prompt=PromptTemplate(input_variables=['input'], input_types={}, partial_variables={}, template='You are a physics teacher who is really focused on beginners and explaining complex topics in simple to understand terms. You assume no prior knowledge. Here is the question\\n{input}'), additional_kwargs={})]), llm=ChatOpenAI(client=<openai.resources.chat.completions.Completions object at 0x000002B1B51DEA90>, async_client=<openai.resources.chat.completions.AsyncCompletions object at 0x000002B1B550F4D0>, root_client=<openai.OpenAI object at 0x000002B1B51778D0>, root_async_client=<openai.AsyncOpenAI object at 0x000002B1B3FE45D0>, model_name='google/gemini-2.0-flash-lite-preview-02-05:free', model_kwargs={}, openai_api_key=SecretStr('**********'), openai_api_base='https://openrouter.ai/api/v1'), output_parser=StrOutputParser(), llm_kwargs={}), 'expert': LLMChain(verbose=False, prompt=ChatPromptTemplate(input_variables=['input'], input_types={}, partial_variables={}, messages=[HumanMessagePromptTemplate(prompt=PromptTemplate(input_variables=['input'], input_types={}, partial_variables={}, template='You are a world expert physics professor who explains physics topics to advanced audience members. You can assume anyone you answer has a PhD level understanding of Physics. Here is the question\\n{input}'), additional_kwargs={})]), llm=ChatOpenAI(client=<openai.resources.chat.completions.Completions object at 0x000002B1B51DEA90>, async_client=<openai.resources.chat.completions.AsyncCompletions object at 0x000002B1B550F4D0>, root_client=<openai.OpenAI object at 0x000002B1B51778D0>, root_async_client=<openai.AsyncOpenAI object at 0x000002B1B3FE45D0>, model_name='google/gemini-2.0-flash-lite-preview-02-05:free', model_kwargs={}, openai_api_key=SecretStr('**********'), openai_api_base='https://openrouter.ai/api/v1'), output_parser=StrOutputParser(), llm_kwargs={})}\n"
     ]
    }
   ],
   "source": [
    "print(destination_chains)"
   ]
  },
  {
   "cell_type": "code",
   "execution_count": 32,
   "id": "73aa8263-95b1-4310-bc7c-c74df677d0a1",
   "metadata": {},
   "outputs": [],
   "source": [
    "default_prompt = ChatPromptTemplate.from_template(\"{input}\")\n",
    "default_chain = LLMChain(llm=model,prompt=default_prompt)"
   ]
  },
  {
   "cell_type": "code",
   "execution_count": 21,
   "id": "df92591a-62c8-4458-a5ed-148ae9cbdf31",
   "metadata": {},
   "outputs": [],
   "source": [
    "router_template = MULTI_PROMPT_ROUTER_TEMPLATE.format(\n",
    "    destinations=destination_str\n",
    ")"
   ]
  },
  {
   "cell_type": "code",
   "execution_count": 23,
   "id": "4d377134-c594-4988-9ec2-df84ef13fb9c",
   "metadata": {},
   "outputs": [
    {
     "name": "stdout",
     "output_type": "stream",
     "text": [
      "Given a raw text input to a language model select the model prompt best suited for the input. You will be given the names of the available prompts and a description of what the prompt is best suited for. You may also revise the original input if you think that revising it will ultimately lead to a better response from the language model.\n",
      "\n",
      "<< FORMATTING >>\n",
      "Return a markdown code snippet with a JSON object formatted to look like:\n",
      "```json\n",
      "{{\n",
      "    \"destination\": string \\ name of the prompt to use or \"DEFAULT\"\n",
      "    \"next_inputs\": string \\ a potentially modified version of the original input\n",
      "}}\n",
      "```\n",
      "\n",
      "REMEMBER: \"destination\" MUST be one of the candidate prompt names specified below OR it can be \"DEFAULT\" if the input is not well suited for any of the candidate prompts.\n",
      "REMEMBER: \"next_inputs\" can just be the original input if you don't think any modifications are needed.\n",
      "\n",
      "<< CANDIDATE PROMPTS >>\n",
      "beginner: Answers basic beginner physics questions\n",
      "expert: Answers advanced physics questions\n",
      "\n",
      "<< INPUT >>\n",
      "{input}\n",
      "\n",
      "<< OUTPUT (must include ```json at the start of the response) >>\n",
      "<< OUTPUT (must end with ```) >>\n",
      "\n"
     ]
    }
   ],
   "source": [
    "print(router_template)"
   ]
  },
  {
   "cell_type": "code",
   "execution_count": 24,
   "id": "12416667-7cd1-4045-917e-bda9d0bc5324",
   "metadata": {},
   "outputs": [],
   "source": [
    "router_prompt = PromptTemplate(\n",
    "    template=router_template,\n",
    "    input_variables=['input'],\n",
    "    output_parser=RouterOutputParser()\n",
    ")"
   ]
  },
  {
   "cell_type": "code",
   "execution_count": 29,
   "id": "ddc24c60-73af-4ba2-a3db-75bd67891260",
   "metadata": {},
   "outputs": [],
   "source": [
    "router_chain = LLMRouterChain.from_llm(model, router_prompt)"
   ]
  },
  {
   "cell_type": "code",
   "execution_count": 46,
   "id": "14501b0f-f8d3-4159-ac72-38a8e4e5f891",
   "metadata": {},
   "outputs": [],
   "source": [
    "chain = MultiPromptChain(\n",
    "    router_chain=router_chain,\n",
    "    default_chain=default_chain,\n",
    "    destination_chains=destination_chains\n",
    ")"
   ]
  },
  {
   "cell_type": "code",
   "execution_count": 48,
   "id": "1f1b4402-0537-44a4-92f5-b89d01e4513a",
   "metadata": {},
   "outputs": [],
   "source": [
    "result = chain.run('How do Feynman Diagrams work?')"
   ]
  },
  {
   "cell_type": "code",
   "execution_count": 49,
   "id": "988503a9-5263-478d-bad5-88ddf5b2f8df",
   "metadata": {},
   "outputs": [
    {
     "data": {
      "text/markdown": [
       "Alright, let's delve into the elegant and powerful world of Feynman diagrams. They are the cornerstone of perturbative quantum field theory, offering a visual and calculational roadmap to understanding particle interactions. For those of us with a solid grasp of quantum field theory (QFT), these diagrams are far more than just pretty pictures; they are a shorthand for complex integrals arising from the application of the interaction picture to the S-matrix.\n",
       "\n",
       "First and foremost, remember that Feynman diagrams are *not* a literal depiction of spacetime trajectories of particles. They are a way to efficiently represent and compute the probability amplitudes for specific processes. It’s a mathematical tool, not a physical photograph. With that caution in mind, let's break down the key elements:\n",
       "\n",
       "**1. The Building Blocks: Particles and Interactions**\n",
       "\n",
       "*   **External Lines (Real Particles):** These represent the incoming and outgoing particles in your scattering process. They are drawn as straight lines. The type of line corresponds to the particle's spin and field.\n",
       "    *   **Fermions (e.g., electrons, quarks):** Often depicted as straight lines with arrows. The arrow indicates the \"flow\" of particle number (or charge). An arrow pointing *into* a vertex is often interpreted as a particle, while an arrow pointing *out* is an antiparticle. (Note: this is a convention, and you need to be consistent).\n",
       "    *   **Bosons (e.g., photons, gluons, W and Z bosons):**  Represented through different types of lines depending on the spin.\n",
       "        *   **Photons (spin-1, massless):** Usually denoted by wavy lines ($\\sim$).\n",
       "        *   **Gluons (spin-1, massless):**  Often denoted by a coiled line or a similar distinctive symbol, to help distinguish them from photons.\n",
       "        *   **W/Z Bosons (spin-1, massive):** Drawn as solid, straight lines, often with distinct labeling.\n",
       "        *   **Scalar Bosons (spin-0, e.g., Higgs boson):** Drawn as dashed lines.\n",
       "*   **Internal Lines (Virtual Particles):** These lines represent particles that mediate the interaction. Crucially, they are *not* restricted to obeying the mass-shell condition ($E^2 = p^2c^2 + m^2c^4$ or $p_\\mu p^\\mu = m^2$). This is where virtuality comes in. The four-momentum of a virtual particle is only *constrained* by the four-momentum conservation at each vertex.\n",
       "    *   These internal lines are crucial to calculating the process. They represent the propagator which is, essentially, the amplitude for a particle to \"travel\" from one vertex to another.\n",
       "\n",
       "*   **Vertices:** These are the interaction points where the incoming and outgoing lines meet. They represent the fundamental interactions described by the Lagrangian of your theory (e.g., Quantum Electrodynamics (QED), Quantum Chromodynamics (QCD)). The rules for a vertex are defined by the interaction terms in your Lagrangian. For instance, in QED, the fundamental vertex is typically the interaction between a fermion (electron or positron), an anti-fermion, and a photon, represented by a three-point vertex. The vertex carries a coupling constant, which determines the strength of the interaction (e.g., $\\sqrt{\\alpha}$ for QED, where $\\alpha$ is the fine structure constant). The vertex must also respect conservation laws, including:\n",
       "    *  **Energy-Momentum Conservation:** The sum of the four-momenta entering a vertex must equal the sum of the four-momenta exiting it.\n",
       "    *   **Charge Conservation (or other relevant quantum numbers):** The appropriate charge (or other conserved quantum numbers) must be conserved at each vertex.\n",
       "\n",
       "**2. The Rules of the Game:  Feynman Rules**\n",
       "\n",
       "Each line and vertex in a Feynman diagram corresponds to a mathematical expression, dictated by the Feynman rules for the particular theory you're working with (QED, QCD, the Standard Model, etc.).  Here's a general overview.\n",
       "\n",
       "*   **External Lines:** Each external line carries a corresponding wave function or polarization vector/spinor. This represents the initial and final state particles. The specific forms depend on the particle type, polarization, and momentum.\n",
       "    *   For incoming or outgoing Fermions: A Dirac spinor $u, v, \\bar{u}, \\bar{v}$ depending on the particle or antiparticle and its spin.\n",
       "    *   For incoming or outgoing Bosons: a polarization vector or wavefunction, depending on spin\n",
       "*   **Internal Lines (Propagators):**  Each internal line (a virtual particle) is assigned a *propagator*.  The propagator is a Green's function for the particle, representing the amplitude for a virtual particle to propagate. Its form is determined by the particle's mass and spin. The propagator depends on the four-momentum ($k$) of the virtual particle that it represents. For example:\n",
       "    *   **Fermion Propagator (spin-1/2):** $\\frac{i(\\cancel{k} + m)}{k^2 - m^2 + i\\epsilon}$  where $\\cancel{k} = \\gamma^\\mu k_\\mu$ is a \"slash\" notation, $k$ is the four-momentum, m is the mass of the fermion, and $\\epsilon$ is an infinitesimal quantity designed to ensure causality.\n",
       "   *   **Photon Propagator (spin-1, in a specific gauge):**  $\\frac{-ig^{\\mu\\nu}}{k^2 + i\\epsilon}$. Note that the specific form of the photon propagator depends on the gauge choice.  (The -ig^{\\mu\\nu} is the flat spacetime metric.)\n",
       "    *   **Scalar Propagator (spin-0):** $\\frac{i}{k^2 - m^2 + i\\epsilon}$.\n",
       "*   **Vertices:** Each vertex also corresponds to an interaction amplitude or coupling constant. This is derived directly from the interaction term in the Lagrangian.\n",
       "    *   **QED Vertex:** The QED vertex for the interaction of a charged fermion with a photon will typically introduce a factor $-ie\\gamma^\\mu$, where 'e' is the electric charge, and $\\gamma^\\mu$ are the Dirac gamma matrices.\n",
       "    *   **QCD Vertices:** The vertices in QCD (e.g. gluon-quark-antiquark) will be considerably more complex, involving the color charges of the quarks and gluons, the gluon polarization vectors, and the Dirac gamma matrices.\n",
       "*   **Integration over Internal Momenta:** For each internal line, you must integrate over all possible four-momenta. This is a key step: $\\int \\frac{d^4 k}{(2\\pi)^4}$. This is crucial because the internal particles are not constrained by the mass-shell condition.\n",
       "*   **Overall Factor:** At the end of everything, there's an overall factor of (-1) for each closed fermion loop (and other factors which depend on the chosen notation), and a symmetry factor (1/n!) for each set of \"identical\" internal or external particles (i.e., identical bosons). The resulting expression from all these parts then needs to be multiplied by the external wave functions or polarization vectors/spinors.\n",
       "\n",
       "**3. Calculating the Amplitude (The S-Matrix)**\n",
       "\n",
       "*   **Constructing Diagrams:**  For a given process (e.g., electron-electron scattering, or $e^-e^+ \\rightarrow \\mu^-\\mu^+$), you draw all the possible Feynman diagrams up to a certain \"order\" in the perturbative expansion. The \"order\" is determined by the number of vertices (which is related to the number of interaction factors, since each vertex carries a coupling constant).  Lowest order diagrams often provide a good approximation.\n",
       "*   **Applying the Rules:** For each diagram, you assign the corresponding mathematical expressions (wave functions, propagators, vertices) according to the Feynman rules. Connect these terms with arrows using the information gathered from the diagram.\n",
       "*   **Formulating the Amplitude:** You then combine these expressions to obtain the contribution to the probability amplitude for that particular diagram. The full amplitude for the process is the sum of the amplitudes from all contributing Feynman diagrams at a given order in perturbation theory.\n",
       "*   **Simplifications and Computation:** Then, you use the appropriate integration to calculate the amplitude resulting from the product of Feynman rules. A lot of these integrals are difficult and require a lot of careful theoretical manipulation using techniques like dimensional regularization.\n",
       "*   **Cross-sections and Decay Rates:** The square of the absolute value of the total amplitude, summed over all possible final states (and averaged over all initial spin states for unpolarized particles), is proportional to the probability of the process. From this, you can calculate experimentally-observable quantities like cross-sections (for scattering) or decay rates.\n",
       "\n",
       "**4. Perturbation Theory and Limitations**\n",
       "\n",
       "Feynman diagrams are intrinsically linked to *perturbation theory*. We decompose the Lagrangian into a free part (describing free particles) and an interacting part (describing the strength of interactions). The calculations are built upon expanding the *S-matrix* in terms of the coupling constants (e.g., $\\alpha$ in QED, or $\\alpha_s$ in QCD).\n",
       "\n",
       "*   **Order by Order:** Each Feynman diagram corresponds to a specific order in this perturbative expansion. Lower-order diagrams involve fewer vertices (smaller coupling constant factors) and often provide the dominant contribution to the amplitude.\n",
       "*   **Convergence:** For the perturbation theory to be accurate, the coupling constant needs to be \"small.\" QED works exceptionally well because $\\alpha \\sim 1/137$. However, the QCD coupling, $\\alpha_s$, is large at low energies, which limits the applicability of perturbative QCD and requiring alternative techniques.\n",
       "* **Renormalization:** When performing calculations, you frequently encounter divergences arising from integrations over internal momenta, particularly at higher orders. These divergences are often related to the infinities involved with calculating self-energies (loop diagrams where a virtual particle interacts with itself). Renormalization is a crucial technique for handling these divergences by redefining the parameters of the theory (masses, charges, and field strengths) based on experimental measurements. By absorbing those infinities into the measured parameters, we get finite, predictive results.\n",
       "\n",
       "**5. Key Advantages & Considerations**\n",
       "\n",
       "*   **Visual Intuition:** Feynman diagrams, even at a glance, offer a great deal of insight into physical processes, providing a way to visualize what is at play.\n",
       "*   **Systematic Approach:** They provide a clear, systematic way to calculate amplitudes. Once the Feynman rules are established, calculations become, in principle, mechanical (though often algebraically challenging!).\n",
       "*   **Simplification:**  Feynman diagrams simplify handling complicated multi-particle interactions. For each diagram, you write down an expression involving those fields and propagators which would be difficult to compute otherwise.\n",
       "*   **Intuition for Virtual Particles:** Feynman diagrams provide insight into the role of virtual particles. Although they are only intermediate states that do not directly observeable and are not bound by mass-shell constraints, they are crucial to understanding interactions.\n",
       "*   **Gauge Invariance:**  In gauge theories (e.g., QED, QCD), Feynman diagrams also play a crucial role in ensuring *gauge invariance* of the calculations, which is an important consistency check (since physical observables shouldn't depend on our choice of gauge).\n",
       "*   **Going Beyond Perturbation Theory** While Feynman diagrams are fundamentally a perturbative tool, there are non-perturbative techniques (like lattice computations) that provide an alternate way to approach QFT and tackle problems that perturbatively can't be easily evaluated.\n",
       "*   **Beyond the Standard Model:** The principles of Feynman diagrams are broadly applicable in research within our field. This includes working on extending the Standard Model and discovering new interactions - they are indispensable tools for exploring new physics at the LHC and future colliders.\n",
       "\n",
       "**In summary, Feynman diagrams are the language of particle physics and are an essential tool for any physicist to master.  They allow us to systematically organize and compute scattering amplitudes and other observables, providing a powerful framework for making predictions about particle interactions that can be tested experimentally.**\n"
      ],
      "text/plain": [
       "<IPython.core.display.Markdown object>"
      ]
     },
     "metadata": {},
     "output_type": "display_data"
    }
   ],
   "source": [
    "display(Markdown(result))"
   ]
  },
  {
   "cell_type": "markdown",
   "id": "b6ed3e3b-0f42-4973-a3e6-bb5aa4ac4086",
   "metadata": {},
   "source": [
    "## mathchain"
   ]
  },
  {
   "cell_type": "code",
   "execution_count": 51,
   "id": "0ac2ee4e-de36-4080-a373-decdb7beaced",
   "metadata": {},
   "outputs": [
    {
     "data": {
      "text/plain": [
       "34271896307633"
      ]
     },
     "execution_count": 51,
     "metadata": {},
     "output_type": "execute_result"
    }
   ],
   "source": [
    "17**11"
   ]
  },
  {
   "cell_type": "code",
   "execution_count": 52,
   "id": "672e15ca-188a-492d-9eee-3cbb8f3d9496",
   "metadata": {},
   "outputs": [
    {
     "name": "stderr",
     "output_type": "stream",
     "text": [
      "C:\\Users\\Alireza\\AppData\\Local\\Temp\\ipykernel_11224\\2522501455.py:1: LangChainDeprecationWarning: The method `BaseChatModel.__call__` was deprecated in langchain-core 0.1.7 and will be removed in 1.0. Use :meth:`~invoke` instead.\n",
      "  result = model(\n"
     ]
    }
   ],
   "source": [
    "result = model(\n",
    "    [\n",
    "        HumanMessage(content='What is 17 raised to the power of 11?')\n",
    "    ]\n",
    ")"
   ]
  },
  {
   "cell_type": "code",
   "execution_count": 54,
   "id": "a3d3987f-7150-4ca3-a3d0-ef2aa6779614",
   "metadata": {},
   "outputs": [
    {
     "name": "stdout",
     "output_type": "stream",
     "text": [
      "17 raised to the power of 11 is 17<sup>11</sup> = 34,048,254,417,407.\n",
      "\n"
     ]
    }
   ],
   "source": [
    "print(result.content)"
   ]
  },
  {
   "cell_type": "code",
   "execution_count": 61,
   "id": "b730c7bf-7ffb-49b6-90cf-65f81675a0c8",
   "metadata": {},
   "outputs": [],
   "source": [
    "math_model = LLMMathChain.from_llm(model)"
   ]
  },
  {
   "cell_type": "code",
   "execution_count": 62,
   "id": "83a18e4a-cbd5-4c8a-ac29-72f148543690",
   "metadata": {},
   "outputs": [
    {
     "name": "stderr",
     "output_type": "stream",
     "text": [
      "C:\\Users\\Alireza\\AppData\\Local\\Temp\\ipykernel_11224\\1477868840.py:1: LangChainDeprecationWarning: The method `Chain.__call__` was deprecated in langchain 0.1.0 and will be removed in 1.0. Use :meth:`~invoke` instead.\n",
      "  math_model('What is 17 raised to the power of 11?')\n"
     ]
    },
    {
     "data": {
      "text/plain": [
       "{'question': 'What is 17 raised to the power of 11?',\n",
       " 'answer': 'Answer: 34271896307633'}"
      ]
     },
     "execution_count": 62,
     "metadata": {},
     "output_type": "execute_result"
    }
   ],
   "source": [
    "math_model('What is 17 raised to the power of 11?')"
   ]
  },
  {
   "cell_type": "markdown",
   "id": "bb935a1c-875f-4992-901c-2d9c3f187030",
   "metadata": {},
   "source": [
    "## QA document"
   ]
  },
  {
   "cell_type": "code",
   "execution_count": 72,
   "id": "49afc11a-f8fe-48e3-8a53-da3ebd384b0c",
   "metadata": {},
   "outputs": [],
   "source": [
    "embedding = OpenAIEmbeddings(\n",
    "    base_url='',api_key=''\n",
    ")"
   ]
  },
  {
   "cell_type": "code",
   "execution_count": 73,
   "id": "519a94ef-2f34-4395-b7bd-f883230a9ce6",
   "metadata": {},
   "outputs": [],
   "source": [
    "db_connection = Chroma(persist_directory='./new_db', embedding_function=embedding)"
   ]
  },
  {
   "cell_type": "code",
   "execution_count": 74,
   "id": "a36c93de-2dfc-4671-a243-f91b808639b3",
   "metadata": {},
   "outputs": [],
   "source": [
    "chain = load_qa_chain(model)"
   ]
  },
  {
   "cell_type": "code",
   "execution_count": 75,
   "id": "5e93e8aa-e53a-4917-abf9-e35ee0ef9f48",
   "metadata": {},
   "outputs": [],
   "source": [
    "qa = 'hi how are you?'"
   ]
  },
  {
   "cell_type": "code",
   "execution_count": 76,
   "id": "0f78df22-9668-4c4e-9446-30812dcf1c5f",
   "metadata": {},
   "outputs": [],
   "source": [
    "docs = db_connection.similarity_search(qa)"
   ]
  },
  {
   "cell_type": "code",
   "execution_count": 77,
   "id": "8276df6a-e1b2-4f75-8420-b368c7d6b0f5",
   "metadata": {},
   "outputs": [
    {
     "data": {
      "text/plain": [
       "'I am doing well, thank you! How are you?\\n'"
      ]
     },
     "execution_count": 77,
     "metadata": {},
     "output_type": "execute_result"
    }
   ],
   "source": [
    "chain.run(input_documents=docs, question=qa)"
   ]
  },
  {
   "cell_type": "code",
   "execution_count": 78,
   "id": "a13101b4-0979-48a8-aa4d-1fdc91f3ca3d",
   "metadata": {},
   "outputs": [],
   "source": [
    "qa = 'What did FDR say about the cost of food law?'"
   ]
  },
  {
   "cell_type": "code",
   "execution_count": 79,
   "id": "1ecacf02-3df2-46cc-8d93-1fba883f4c08",
   "metadata": {},
   "outputs": [],
   "source": [
    "docs = db_connection.similarity_search(qa)"
   ]
  },
  {
   "cell_type": "code",
   "execution_count": 80,
   "id": "07dd2f6c-6ac3-477e-a1dd-373d9853d89d",
   "metadata": {},
   "outputs": [
    {
     "name": "stdout",
     "output_type": "stream",
     "text": [
      "The cost of food law will enable the Government (a) to place a reasonable floor under the prices the farmer may expect for his production; and (b) to place a ceiling on the prices a consumer will have to pay for the food he buys. This should apply to necessities only; and will require public funds to carry out. It will cost in appropriations about one percent of the present annual cost of the war.\n",
      "\n"
     ]
    }
   ],
   "source": [
    "print(chain.run(input_documents=docs, question=qa))"
   ]
  }
 ],
 "metadata": {
  "kernelspec": {
   "display_name": "Python 3 (ipykernel)",
   "language": "python",
   "name": "python3"
  },
  "language_info": {
   "codemirror_mode": {
    "name": "ipython",
    "version": 3
   },
   "file_extension": ".py",
   "mimetype": "text/x-python",
   "name": "python",
   "nbconvert_exporter": "python",
   "pygments_lexer": "ipython3",
   "version": "3.11.1"
  }
 },
 "nbformat": 4,
 "nbformat_minor": 5
}
