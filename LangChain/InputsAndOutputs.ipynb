{
 "cells": [
  {
   "cell_type": "markdown",
   "id": "944e5f5a-6194-4968-8691-690807d473fe",
   "metadata": {},
   "source": [
    "# Models - Inputs And Outputs (IO)"
   ]
  },
  {
   "cell_type": "markdown",
   "id": "88a64b91-131d-49d2-a91a-d56faa50dd90",
   "metadata": {
    "jp-MarkdownHeadingCollapsed": true
   },
   "source": [
    "## import library"
   ]
  },
  {
   "cell_type": "code",
   "execution_count": 3,
   "id": "f667a0b5-95c5-4b5a-a461-5ce16c811e8e",
   "metadata": {},
   "outputs": [],
   "source": [
    "# !pip install --upgrade pydantic langchain -q"
   ]
  },
  {
   "cell_type": "code",
   "execution_count": 121,
   "id": "abf18be1-f23e-4830-9492-e0c6db11427e",
   "metadata": {},
   "outputs": [],
   "source": [
    "import os\n",
    "\n",
    "import openai\n",
    "import langchain\n",
    "\n",
    "# llm\n",
    "# from langchain.llms import OpenAI # old v\n",
    "from langchain_openai import OpenAI # new v\n",
    "\n",
    "# chat models\n",
    "# from langchain.chat_models import ChatOpenAI # old v\n",
    "from langchain_openai import ChatOpenAI # new v\n",
    "from langchain.schema import HumanMessage, SystemMessage, AIMessage\n",
    "\n",
    "# cache\n",
    "from langchain.cache import InMemoryCache\n",
    "\n",
    "# prompt templates\n",
    "from langchain import PromptTemplate # for llm\n",
    "from langchain.prompts import (\n",
    "    ChatPromptTemplate,\n",
    "    PromptTemplate,\n",
    "    AIMessagePromptTemplate,\n",
    "    SystemMessagePromptTemplate,\n",
    "    HumanMessagePromptTemplate\n",
    ") # for chat models\n",
    "\n",
    "# parser\n",
    "from langchain.output_parsers import CommaSeparatedListOutputParser\n",
    "from langchain.output_parsers import DatetimeOutputParser\n",
    "from langchain.output_parsers import OutputFixingParser"
   ]
  },
  {
   "cell_type": "code",
   "execution_count": 5,
   "id": "810676ab-94b8-485d-ac71-1fa61779fe06",
   "metadata": {},
   "outputs": [
    {
     "data": {
      "text/plain": [
       "'0.3.18'"
      ]
     },
     "execution_count": 5,
     "metadata": {},
     "output_type": "execute_result"
    }
   ],
   "source": [
    "langchain.__version__"
   ]
  },
  {
   "cell_type": "code",
   "execution_count": 1,
   "id": "6f15f801-4a69-46c7-a134-3fff49227ea9",
   "metadata": {},
   "outputs": [
    {
     "data": {
      "text/plain": [
       "'C:\\\\Users\\\\Alireza\\\\Downloads\\\\Documents\\\\Generative Ai\\\\LangChain'"
      ]
     },
     "execution_count": 1,
     "metadata": {},
     "output_type": "execute_result"
    }
   ],
   "source": [
    "pwd"
   ]
  },
  {
   "cell_type": "markdown",
   "id": "7a700116-6fef-4064-ad82-f4aa925a89af",
   "metadata": {
    "jp-MarkdownHeadingCollapsed": true
   },
   "source": [
    "## getting started"
   ]
  },
  {
   "cell_type": "code",
   "execution_count": 46,
   "id": "98269b08-b4d5-4c31-b98d-001f9572443c",
   "metadata": {},
   "outputs": [],
   "source": [
    "os.environ['key'] = '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'"
   ]
  },
  {
   "cell_type": "code",
   "execution_count": 6,
   "id": "05bd330e-6904-4750-b593-86ae08986b51",
   "metadata": {},
   "outputs": [],
   "source": [
    "api_key = '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'\n",
    "base_url = 'https://openrouter.ai/api/v1'\n",
    "model='google/gemini-2.0-flash-lite-preview-02-05:free'"
   ]
  },
  {
   "cell_type": "code",
   "execution_count": 16,
   "id": "4d97c5e3-2ec9-4d32-896d-afe6566b86ff",
   "metadata": {},
   "outputs": [],
   "source": [
    "chat = openai.OpenAI(\n",
    "    base_url=base_url,\n",
    "    api_key=api_key\n",
    ")"
   ]
  },
  {
   "cell_type": "code",
   "execution_count": 17,
   "id": "4a3e04ef-b7bc-4fbc-a9f9-c67cb3365015",
   "metadata": {},
   "outputs": [],
   "source": [
    "result = chat.completions.create(\n",
    "    model=model,\n",
    "    prompt='درباره انسان ها به من بگو',\n",
    "    max_tokens=1000\n",
    ")"
   ]
  },
  {
   "cell_type": "code",
   "execution_count": 18,
   "id": "4f5c8e85-e155-4716-abd1-da4e1e96bf87",
   "metadata": {},
   "outputs": [
    {
     "name": "stdout",
     "output_type": "stream",
     "text": [
      "انسان‌ها گونه‌ای از پستانداران هستند که ویژگی‌های منحصربه‌فردی دارند که آن‌ها را از سایر موجودات زنده متمایز می‌کند. در اینجا به برخی از جنبه‌های مهم انسان‌ها می‌پردازیم:\n",
      "\n",
      "**ویژگی‌های بیولوژیکی:**\n",
      "\n",
      "*   **آناتومی:** انسان‌ها دارای آناتومی پیچیده‌ای هستند، از جمله مغز بزرگ، ساختار اسکلتی مناسب برای ایستادن و راه رفتن عمودی، دست‌های ماهر با انگشتان شست مخالف (که توانایی گرفتن اشیاء را فراهم می‌کند)، و سیستم‌های حسی پیشرفته (مانند بینایی و شنوایی).\n",
      "*   **فیزیولوژی:** بدن انسان برای عملکردهای متعددی، از جمله تنفس، گردش خون، گوارش، و تولید مثل طراحی شده است. این سیستم‌ها با هم کار می‌کنند تا زنده بمانند و تولید مثل کنند.\n",
      "*   **ژنتیک:** انسان‌ها دارای ژنوم پیچیده‌ای هستند که از DNA تشکیل شده است و شامل اطلاعات لازم برای رشد، توسعه و عملکرد بدن است. تنوع ژنتیکی بین انسان‌ها باعث ایجاد صفات فیزیکی و آسیب‌پذیری‌های مختلف می‌شود.\n",
      "\n",
      "**ویژگی‌های شناختی و روانشناختی:**\n",
      "\n",
      "*   **هوش:** انسان‌ها دارای سطوح بالایی از هوش هستند. این هوش شامل توانایی تفکر انتزاعی، یادگیری، حل مسئله، خلاقیت، و برقراری ارتباط پیچیده است.\n",
      "*   **زبان:** انسان‌ها قادر به استفاده از زبان‌های پیچیده هستند که به آن‌ها اجازه می‌دهد افکار، ایده‌ها و احساسات خود را با دیگران به اشتراک بگذارند. زبان ابزار اصلی برای یادگیری، فرهنگ و جامعه‌پذیری است.\n",
      "*   **احساسات:** انسان‌ها طیف گسترده‌ای از احساسات را تجربه می‌کنند، از جمله شادی، غم، خشم، ترس، و عشق. این احساسات بر رفتار و تعاملات آن‌ها با دیگران تأثیر می‌گذارد.\n",
      "*   **خودآگاهی:** انسان‌ها از خودآگاهی برخوردارند، به این معنی که از وجود خود، افکار، و احساساتشان آگاه هستند. این خودآگاهی به آن‌ها اجازه می‌دهد تا در مورد خودشان و جهان اطرافشان تأمل کنند.\n",
      "*   **شخصیت:** هر فرد دارای شخصیت منحصربه‌فردی است که تحت تأثیر عوامل ژنتیکی، محیطی، و تجربیات زندگی قرار دارد. این شخصیت بر نحوه تفکر، احساس و رفتار فرد تأثیر می‌گذارد.\n",
      "\n",
      "**ویژگی‌های اجتماعی و فرهنگی:**\n",
      "\n",
      "*   **جامعه:** انسان‌ها، موجودات اجتماعی هستند که در جوامع سازمان یافته زندگی می‌کنند. این جوامع می‌توانند از گروه‌های کوچک (مانند خانواده‌ها) تا جوامع بزرگ (مانند ملت‌ها) متغیر باشند.\n",
      "*   **فرهنگ:** انسان‌ها فرهنگ‌های متنوعی را ایجاد کرده‌اند که شامل زبان، هنر، موسیقی، مذهب، آداب و رسوم، و فناوری است. فرهنگ‌ها نقش مهمی در شکل‌دهی به رفتار، ارزش‌ها و باورهای انسان‌ها دارند.\n",
      "*   **روابط:** انسان‌ها روابط پیچیده‌ای با دیگران برقرار می‌کنند، از جمله روابط خانوادگی، روابط دوستانه، و روابط عاشقانه. این روابط برای سلامت روان و رفاه اجتماعی ضروری هستند.\n",
      "*   **اخلاق و ارزش‌ها:** انسان‌ها دارای سیستم‌های اخلاقی و ارزشی هستند که بر مبنای آن‌ها در مورد درست و غلط، خوب و بد قضاوت می‌کنند. این سیستم‌ها رفتار فردی و اجتماعی را هدایت می‌کنند.\n",
      "*   **فناوری:** انسان‌ها از فناوری برای بهبود زندگی خود استفاده می‌کنند. فناوری‌ها شامل ابزارهای ساده گرفته تا سیستم‌های پیچیده و اینترنت می‌شوند.\n",
      "\n",
      "**مسائل و چالش‌ها:**\n",
      "\n",
      "*   **سلامت:** انسان‌ها در معرض انواع بیماری‌ها و مشکلات سلامتی هستند که می‌تواند بر کیفیت زندگی و طول عمر آن‌ها تأثیر بگذارد.\n",
      "*   **تغییرات اقلیمی و محیطی:** فعالیت‌های انسانی باعث تغییرات اقلیمی و آسیب به محیط‌زیست شده است که خطراتی برای انسان‌ها و سایر موجودات زنده دارد.\n",
      "*   **تعارض و خشونت:** انسان‌ها مستعد درگیری و خشونت هستند، چه در سطح فردی، چه در سطح اجتماعی و چه در سطح جهانی.\n",
      "*   **ناهماهنگی‌های اجتماعی:** نابرابری‌های اقتصادی، تبعیض، و بی‌عدالتی‌های اجتماعی همچنان در بسیاری از جوامع وجود دارد.\n",
      "\n",
      "**به طور خلاصه:**\n",
      "\n",
      "انسان‌ها موجودات پیچیده‌ای هستند که ترکی\n"
     ]
    }
   ],
   "source": [
    "print(result.choices[0].text)"
   ]
  },
  {
   "cell_type": "markdown",
   "id": "0d3e2d70-4825-4147-899f-096dccde6175",
   "metadata": {
    "jp-MarkdownHeadingCollapsed": true
   },
   "source": [
    "## llm"
   ]
  },
  {
   "cell_type": "code",
   "execution_count": 18,
   "id": "2d938bea-19ba-4830-b417-6cd1feeafeab",
   "metadata": {},
   "outputs": [],
   "source": [
    "llm = OpenAI(\n",
    "    base_url='https://api.avalai.ir/v1',\n",
    "    api_key='aa-QojxQoLxAvf0ffdcOGsMqNumVPyXPWkJZV7tWJBVIABqx0r2'\n",
    ")"
   ]
  },
  {
   "cell_type": "code",
   "execution_count": 20,
   "id": "a3c1f38f-b848-432b-a42b-ec92ae2daaf7",
   "metadata": {},
   "outputs": [
    {
     "name": "stdout",
     "output_type": "stream",
     "text": [
      "\n",
      "\n",
      "من بسیار خوبم، متشکرم. شما خودتان ��طورید��\n"
     ]
    }
   ],
   "source": [
    "print(llm('سلام خوبی؟'))"
   ]
  },
  {
   "cell_type": "code",
   "execution_count": 161,
   "id": "80621682-f8a5-4a4c-b090-e5a81edb87ea",
   "metadata": {},
   "outputs": [],
   "source": [
    "result = llm.generate(['یک حقیقت درباره انسان بگو', 'یک حقیقت درباره دنیا بگو'])"
   ]
  },
  {
   "cell_type": "code",
   "execution_count": 163,
   "id": "06ad828a-7bd0-4fd0-a4f5-29c51911c44d",
   "metadata": {},
   "outputs": [
    {
     "data": {
      "text/plain": [
       "{'title': 'LLMResult',\n",
       " 'description': 'A container for results of an LLM call.\\n\\nBoth chat models and LLMs generate an LLMResult object. This object contains\\nthe generated outputs and any additional information that the model provider\\nwants to return.',\n",
       " 'type': 'object',\n",
       " 'properties': {'generations': {'title': 'Generations',\n",
       "   'type': 'array',\n",
       "   'items': {'type': 'array', 'items': {'$ref': '#/definitions/Generation'}}},\n",
       "  'llm_output': {'title': 'Llm Output', 'type': 'object'},\n",
       "  'run': {'title': 'Run',\n",
       "   'type': 'array',\n",
       "   'items': {'$ref': '#/definitions/RunInfo'}}},\n",
       " 'required': ['generations'],\n",
       " 'definitions': {'Generation': {'title': 'Generation',\n",
       "   'description': 'A single text generation output.\\n\\nGeneration represents the response from an \"old-fashioned\" LLM that\\ngenerates regular text (not chat messages).\\n\\nThis model is used internally by chat model and will eventually\\nbe mapped to a more general `LLMResult` object, and then projected into\\nan `AIMessage` object.\\n\\nLangChain users working with chat models will usually access information via\\n`AIMessage` (returned from runnable interfaces) or `LLMResult` (available\\nvia callbacks). Please refer the `AIMessage` and `LLMResult` schema documentation\\nfor more information.',\n",
       "   'type': 'object',\n",
       "   'properties': {'text': {'title': 'Text', 'type': 'string'},\n",
       "    'generation_info': {'title': 'Generation Info', 'type': 'object'},\n",
       "    'type': {'title': 'Type',\n",
       "     'default': 'Generation',\n",
       "     'enum': ['Generation'],\n",
       "     'type': 'string'}},\n",
       "   'required': ['text']},\n",
       "  'RunInfo': {'title': 'RunInfo',\n",
       "   'description': 'Class that contains metadata for a single execution of a Chain or model.\\n\\nDefined for backwards compatibility with older versions of langchain_core.\\n\\nThis model will likely be deprecated in the future.\\n\\nUsers can acquire the run_id information from callbacks or via run_id\\ninformation present in the astream_event API (depending on the use case).',\n",
       "   'type': 'object',\n",
       "   'properties': {'run_id': {'title': 'Run Id',\n",
       "     'type': 'string',\n",
       "     'format': 'uuid'}},\n",
       "   'required': ['run_id']}}}"
      ]
     },
     "execution_count": 163,
     "metadata": {},
     "output_type": "execute_result"
    }
   ],
   "source": [
    "result.schema()"
   ]
  },
  {
   "cell_type": "code",
   "execution_count": 166,
   "id": "744f488c-c8c0-4ef0-b49e-0d59f170ddf8",
   "metadata": {},
   "outputs": [
    {
     "data": {
      "text/plain": [
       "{'token_usage': {'total_tokens': 548,\n",
       "  'completion_tokens': 512,\n",
       "  'prompt_tokens': 36},\n",
       " 'model_name': 'gpt-3.5-turbo-instruct'}"
      ]
     },
     "execution_count": 166,
     "metadata": {},
     "output_type": "execute_result"
    }
   ],
   "source": [
    "result.llm_output"
   ]
  },
  {
   "cell_type": "code",
   "execution_count": 173,
   "id": "1699a918-dcca-47bb-a6bd-1eba9d128083",
   "metadata": {},
   "outputs": [
    {
     "name": "stdout",
     "output_type": "stream",
     "text": [
      "یید\n",
      "\n",
      "انسان یک موجود بی نظیر و پی��یده است که با دارا بودن عقل و عاطفه، قادر است به تفکر، احساس و ارتباط بین فردی و اجتماعی. او قادر است به تصمیم گیری و انتخاب و ��فرینش است. انسان دارای قدرت های بالقوه بسیاری است که با استفاده مناسب از ��نها می تواند به دنبال رشد و تحولات بزرگی در جامعه و دنیا باشد.\n",
      "\n",
      "انسان به عنوان یک موجود اجتماعی، به تعامل و ارتباط با دیگران نیاز دارد و این ارتباطات می تواند در\n"
     ]
    }
   ],
   "source": [
    "print(result.generations[0][0].text)"
   ]
  },
  {
   "cell_type": "code",
   "execution_count": 174,
   "id": "f4a3d79a-cca9-4ba2-b7d9-befb98b03016",
   "metadata": {},
   "outputs": [
    {
     "name": "stdout",
     "output_type": "stream",
     "text": [
      "\n",
      "\n",
      "حقیقت این است که دنیا یک سیاره است که در منظومه شمسی قرار دارد و در مجموعه‌ای از سیارات و ستارگان قرار گرفته است. این سیاره دارای اندازه و جرم مناسبی است که به انسان‌ها امکان ��ندگی و رشد را می‌دهد. دنیا دارای ��ب و هوای مناسبی است که به این سیاره اجازه می‌دهد تا جانداران مختلفی را در خود نگه دارد. هم��نین، دنیا دارای منابع ��بیعی ��نی است که مورد استفاده انسان‌ها قرار می‌گیرد. اما در عین حال،\n"
     ]
    }
   ],
   "source": [
    "print(result.generations[1][0].text)"
   ]
  },
  {
   "cell_type": "code",
   "execution_count": 218,
   "id": "7b9fb183-d392-494f-a2eb-1a376a0b810c",
   "metadata": {},
   "outputs": [],
   "source": [
    "### memory cache in llm\n",
    "langchain.llm_cache = InMemoryCache()"
   ]
  },
  {
   "cell_type": "code",
   "execution_count": 214,
   "id": "0f243a8f-6b94-4af6-a3ca-21fae3890f26",
   "metadata": {},
   "outputs": [
    {
     "name": "stdout",
     "output_type": "stream",
     "text": [
      "\n",
      "\n",
      "برنامه نویسی فرایند ��راحی و ساختن نرم افزارها، اپلیکیشن‌ها و وبسایت‌ها است. برنامه نویسی برای حل مسا��ل و انجام وظایف مختلف از ��ریق توسعه کد و برنامه‌های کامپیوتری انجام می‌شود. برنامه نویسان از ��بان‌های برنامه نویسی مختلف مانند جاوااسکریپت، پایتون، سی‌پلاس‌پلاس و ��یره استفاده می‌کنند تا نرم افزارها و وبسایت‌های مختلف را ��راحی و پیاده ساز\n"
     ]
    }
   ],
   "source": [
    "print(llm.predict('برنامه نویسی چیست؟'))"
   ]
  },
  {
   "cell_type": "code",
   "execution_count": 216,
   "id": "7f208a20-f92e-4c58-b677-710607b04a58",
   "metadata": {},
   "outputs": [
    {
     "name": "stdout",
     "output_type": "stream",
     "text": [
      "\n",
      "\n",
      "برنامه نویسی فرایند ��راحی و ساختن نرم افزارها، اپلیکیشن‌ها و وبسایت‌ها است. برنامه نویسی برای حل مسا��ل و انجام وظایف مختلف از ��ریق توسعه کد و برنامه‌های کامپیوتری انجام می‌شود. برنامه نویسان از ��بان‌های برنامه نویسی مختلف مانند جاوااسکریپت، پایتون، سی‌پلاس‌پلاس و ��یره استفاده می‌کنند تا نرم افزارها و وبسایت‌های مختلف را ��راحی و پیاده ساز\n"
     ]
    }
   ],
   "source": [
    "print(llm.predict('برنامه نویسی چیست؟'))"
   ]
  },
  {
   "cell_type": "markdown",
   "id": "08da0201-bab1-4f63-8d67-3b6f0bcea443",
   "metadata": {
    "jp-MarkdownHeadingCollapsed": true
   },
   "source": [
    "## chat models"
   ]
  },
  {
   "cell_type": "code",
   "execution_count": 11,
   "id": "8f8c4cad-39d6-48e9-8a94-2e9c32085334",
   "metadata": {},
   "outputs": [],
   "source": [
    "chat = ChatOpenAI(\n",
    "    model_name=model,\n",
    "    api_key=api_key,\n",
    "    base_url=base_url\n",
    ")"
   ]
  },
  {
   "cell_type": "code",
   "execution_count": 13,
   "id": "1293e1a8-91d6-4a9e-aeaf-647fa07444d7",
   "metadata": {},
   "outputs": [],
   "source": [
    "result = chat(\n",
    "    [\n",
    "        SystemMessage(content='بسیار بسیار خنده دار و فان جواب بده'),\n",
    "        HumanMessage(content='درباره انسان ها یک حقیقت بگو')\n",
    "    ]\n",
    ")"
   ]
  },
  {
   "cell_type": "code",
   "execution_count": 14,
   "id": "df6b5a7b-c8df-4092-9292-8fc98860f52a",
   "metadata": {},
   "outputs": [
    {
     "name": "stdout",
     "output_type": "stream",
     "text": [
      "انسان‌ها موجوداتی هستن که بیشتر وقتشون رو صرف این می‌کنن که لباس بپوشن، غذا بخورن، و بعدش برن تو شبکه‌های اجتماعی تا بقیه رو قضاوت کنن که چرا لباسشون قشنگ‌تر و غذاییشون خوشمزه‌تر نیست! 😂\n",
      "\n"
     ]
    }
   ],
   "source": [
    "print(result.content)"
   ]
  },
  {
   "cell_type": "code",
   "execution_count": 199,
   "id": "6c39cd6d-4899-4692-bd17-7dcd2a322437",
   "metadata": {},
   "outputs": [],
   "source": [
    "result1 = chat.generate([\n",
    "    [\n",
    "        SystemMessage(content='جدی و مستبد پاسخ بده'),\n",
    "        HumanMessage(content='نظرت راجب فوتبالیست ها چیست؟')\n",
    "    ],\n",
    "    [\n",
    "        SystemMessage(content='خنده دار و فان پاسخ بده'),\n",
    "        HumanMessage(content='نظرت راجب فوتبالیست ها چیست؟')\n",
    "    ]\n",
    "])"
   ]
  },
  {
   "cell_type": "code",
   "execution_count": 201,
   "id": "cc8a522e-5848-48ec-b764-9d263f929e9b",
   "metadata": {},
   "outputs": [
    {
     "data": {
      "text/plain": [
       "{'token_usage': {'completion_tokens': 456,\n",
       "  'prompt_tokens': 36,\n",
       "  'total_tokens': 492},\n",
       " 'model_name': 'google/gemini-2.0-flash-lite-preview-02-05:free'}"
      ]
     },
     "execution_count": 201,
     "metadata": {},
     "output_type": "execute_result"
    }
   ],
   "source": [
    "result1.llm_output"
   ]
  },
  {
   "cell_type": "code",
   "execution_count": 202,
   "id": "2403a5c1-233e-4a10-aa2a-d1a8403dac8c",
   "metadata": {},
   "outputs": [
    {
     "name": "stdout",
     "output_type": "stream",
     "text": [
      "به عنوان یک مدل زبانی، من نظرات شخصی ندارم. با این حال، می‌توانم اطلاعاتی در مورد فوتبالیست‌ها ارائه دهم:\n",
      "\n",
      "*   **اهمیت:** فوتبالیست‌ها در سراسر جهان از جایگاه بالایی برخوردارند و اغلب به عنوان ورزشکاران برجسته و چهره‌های مشهور شناخته می‌شوند.\n",
      "*   **مهارت و ورزشکاری:** فوتبال یک ورزش بسیار رقابتی و نیازمند مهارت، قدرت، استقامت و کار تیمی بالاست. فوتبالیست‌ها باید در سطح بالایی از آمادگی جسمانی و تکنیکی قرار داشته باشند.\n",
      "*   **تاثیر فرهنگی و اجتماعی:** فوتبالیست‌ها می‌توانند تاثیر قابل توجهی بر فرهنگ و جامعه داشته باشند. آن‌ها اغلب به عنوان الگو برای جوانان عمل می‌کنند و می‌توانند از پلتفرم خود برای حمایت از مسائل مختلف استفاده کنند.\n",
      "*   **مسائل مربوط به حرفه:** فوتبالیست‌ها با فشار زیادی برای عملکرد، رقابت و مسائل مربوط به قراردادها و انتقال‌ها روبرو هستند. همچنین، آن‌ها در معرض آسیب‌های جسمانی نیز قرار دارند.\n",
      "*   **تنوع:** فوتبالیست‌ها از سراسر جهان می‌آیند و این ورزش را به یک پدیده جهانی تبدیل کرده‌اند.\n",
      "\n",
      "اگر سوال خاصی دارید، خوشحال می‌شوم به آن پاسخ دهم.\n",
      "--------------------------\n",
      "فوتبالیست‌ها موجودات جالبی هستن! ⚽️ یه عده‌شون انگار از یه سیاره دیگه اومدن، اونقدر که پاشون به توپ می‌چسبه و دریبل می‌زنن. یه عده دیگه هم هستن که انگار با توپ قهرن و فقط دوست دارن زمین بخورن! 😂\n",
      "\n",
      "خلاصه که همشون کلی طرفدار دارن، پول پارو می‌کنن و گاهی اوقات هم سوژه خنده ما میشن. 😅 مثلاً اونجایی که یه گل مفت رو خراب می‌کنن یا یه پنالتی رو می‌زنن بیرون، خیلی بامزه میشه! 🤣\n",
      "\n",
      "در کل، فوتبالیست‌ها یه بخش مهم از فرهنگ ما هستن و زندگی رو با هیجان و خنده همراه می‌کنن. 😉\n",
      "\n"
     ]
    }
   ],
   "source": [
    "print(result1.generations[0][0].text)\n",
    "print('--------------------------')\n",
    "print(result1.generations[1][0].text)"
   ]
  },
  {
   "cell_type": "code",
   "execution_count": 221,
   "id": "54b2c668-4eca-44a4-ab76-62434df975ea",
   "metadata": {},
   "outputs": [],
   "source": [
    "result = chat(\n",
    "    [\n",
    "        SystemMessage(content='بسیار بسیار خنده دار و فان جواب بده'),\n",
    "        HumanMessage(content='درباره انسان ها یک حقیقت بگو')\n",
    "    ],\n",
    "    max_tokens=20 # limit token\n",
    ")"
   ]
  },
  {
   "cell_type": "code",
   "execution_count": 222,
   "id": "c5c82e5e-e8de-44d1-a576-08a5f6108d80",
   "metadata": {},
   "outputs": [
    {
     "name": "stdout",
     "output_type": "stream",
     "text": [
      "حقیقتش اینه که آدما یه موجودات عجیبی هستن! یهو\n"
     ]
    }
   ],
   "source": [
    "print(result.content)"
   ]
  },
  {
   "cell_type": "markdown",
   "id": "464d5190-4c2a-4522-9937-94f939a63904",
   "metadata": {
    "jp-MarkdownHeadingCollapsed": true
   },
   "source": [
    "## prompt templates in llm"
   ]
  },
  {
   "cell_type": "code",
   "execution_count": 226,
   "id": "bd75276e-3d85-4fe1-b855-d36e683d7567",
   "metadata": {},
   "outputs": [
    {
     "name": "stdout",
     "output_type": "stream",
     "text": [
      " ها\n",
      "\n",
      "��دم ها از نظر فیزیکی و ��هنی متفاوت هستند، اما همه انسان ها یکسان در اندازه دوست داشتن، عشق، خشم، ترس، خوشحالی، ناراحتی و احساسات دیگر هستند. ��نها می توانند خیلی مهربان، مهربان و مهربان باشند، اما همه ��نها نیز ممکن است خشن، خشونت ��میز و بدجنس باشند. ��دم ها قادر به تفکر، احساس، خلاقیت، عقل و هوشمندی هستند، اما هم��نین می توانند اشتباه\n"
     ]
    }
   ],
   "source": [
    "x = 'آدم'\n",
    "print(llm(f'یک حقیقت بگو درباره {x}'))"
   ]
  },
  {
   "cell_type": "code",
   "execution_count": 235,
   "id": "09c9bc6f-31d6-4cad-a244-7f140fdedad8",
   "metadata": {},
   "outputs": [],
   "source": [
    "input_prompt = PromptTemplate(\n",
    "    input_variables = ['topic', 'level'],\n",
    "    template = 'به من بگو یک حقیقت درباره {topic} در سطح فهم {level}'\n",
    ")"
   ]
  },
  {
   "cell_type": "code",
   "execution_count": 236,
   "id": "aee1dcc1-d352-42f9-8934-7a1f8492f71c",
   "metadata": {},
   "outputs": [
    {
     "name": "stdout",
     "output_type": "stream",
     "text": [
      "\n",
      "\n",
      "یک حقیقت درباره سیگار در سطح فهم دکترا این است که سیگار حاوی بیش از �������� ماده شیمیایی است که می‌تواند برای سلامتی بسیار ��رر داشته باشد. این مواد شیمیایی شامل ترکیبات سمی مانند نیکوتین �� ت��وبرومین �� ت��وفیلین و کربن مونواکسید است که می‌توانند باعث ایجاد مشکلات ریوی �� قلبی �� عروقی و سیستم ایمنی شوند. هم��نین �� مواد نگهدارنده �� رنگ ها و ��عم دهنده های م\n"
     ]
    }
   ],
   "source": [
    "print(llm(    input_prompt.format(topic = 'سیگار', level = 'دکترا')   ))"
   ]
  },
  {
   "cell_type": "code",
   "execution_count": 238,
   "id": "0c6f3946-35b0-4584-8a8c-fef4d664441f",
   "metadata": {},
   "outputs": [
    {
     "name": "stdout",
     "output_type": "stream",
     "text": [
      "\n",
      "\n",
      "یک حقیقت درباره سیگار که می توانید به کودکان بگویید این است که سیگار حاوی موادی است که می توانند به بدن ما ��سیب برسانند و ما را بیمار کنند. بنابراین، بهتر است هی�� وقت سیگار نکشیم و از ��ن دوری کنیم.\n"
     ]
    }
   ],
   "source": [
    "print(llm(    input_prompt.format(topic = 'سیگار', level = 'کودکان')   ))"
   ]
  },
  {
   "cell_type": "markdown",
   "id": "26d0fe8f-9c6c-41db-b9c1-eb9e3d65d6c9",
   "metadata": {
    "jp-MarkdownHeadingCollapsed": true
   },
   "source": [
    "## prompt templates in chat models"
   ]
  },
  {
   "cell_type": "code",
   "execution_count": 42,
   "id": "7f393289-2cdc-4936-bd74-ff65eab3d6a9",
   "metadata": {},
   "outputs": [],
   "source": [
    "system_template = 'شما یک آشپز فوق العاده ماهر هستید که در غذاهای {cooking_time} که میتواند در مدت {dietary_preference} آماده شود تخصص دارید لطفا یک پیشنهاد غذایی با طرز تهیه آن به من بده'"
   ]
  },
  {
   "cell_type": "code",
   "execution_count": 43,
   "id": "07b83c25-4e45-48f8-9795-adbcd85c04b9",
   "metadata": {},
   "outputs": [],
   "source": [
    "sys_message = SystemMessagePromptTemplate.from_template(system_template)"
   ]
  },
  {
   "cell_type": "code",
   "execution_count": 44,
   "id": "1297699c-1494-481a-ac7c-e58b750ceb98",
   "metadata": {},
   "outputs": [],
   "source": [
    "human_template = '{req}'"
   ]
  },
  {
   "cell_type": "code",
   "execution_count": 45,
   "id": "4ed86db0-c73a-425b-aba6-7783cbf8391e",
   "metadata": {},
   "outputs": [],
   "source": [
    "human_message = HumanMessagePromptTemplate.from_template(human_template)"
   ]
  },
  {
   "cell_type": "code",
   "execution_count": 46,
   "id": "a35642b5-700f-4061-bd87-8e2179c738da",
   "metadata": {},
   "outputs": [
    {
     "data": {
      "text/plain": [
       "['req']"
      ]
     },
     "execution_count": 46,
     "metadata": {},
     "output_type": "execute_result"
    }
   ],
   "source": [
    "human_message.input_variables"
   ]
  },
  {
   "cell_type": "code",
   "execution_count": 47,
   "id": "79429208-be00-47bd-96d5-98aab619f6fb",
   "metadata": {},
   "outputs": [
    {
     "data": {
      "text/plain": [
       "['cooking_time', 'dietary_preference']"
      ]
     },
     "execution_count": 47,
     "metadata": {},
     "output_type": "execute_result"
    }
   ],
   "source": [
    "sys_message.input_variables"
   ]
  },
  {
   "cell_type": "code",
   "execution_count": 48,
   "id": "3d28fee7-5e2b-4cc5-b9fe-cd5927a0e7a6",
   "metadata": {},
   "outputs": [],
   "source": [
    "chat_prompt = ChatPromptTemplate([sys_message, human_message])"
   ]
  },
  {
   "cell_type": "code",
   "execution_count": 49,
   "id": "c27dfe6d-5272-4903-b3e6-906a2920b9df",
   "metadata": {},
   "outputs": [
    {
     "data": {
      "text/plain": [
       "['cooking_time', 'dietary_preference', 'req']"
      ]
     },
     "execution_count": 49,
     "metadata": {},
     "output_type": "execute_result"
    }
   ],
   "source": [
    "chat_prompt.input_variables"
   ]
  },
  {
   "cell_type": "code",
   "execution_count": 53,
   "id": "b6e78ac9-fc35-45bc-8010-5921907e948e",
   "metadata": {},
   "outputs": [],
   "source": [
    "prompt = chat_prompt.format_prompt(\n",
    "    cooking_time='20 دقیقه',\n",
    "    dietary_preference='گیاهی',\n",
    "    req='طرز تهیه شام'\n",
    ").to_messages()"
   ]
  },
  {
   "cell_type": "code",
   "execution_count": 54,
   "id": "e0adff8b-0022-477d-aed0-1df6c52ed329",
   "metadata": {},
   "outputs": [],
   "source": [
    "result = chat(prompt)"
   ]
  },
  {
   "cell_type": "code",
   "execution_count": 55,
   "id": "a2e297ea-f91f-40a0-946d-f4ddb2577242",
   "metadata": {},
   "outputs": [
    {
     "name": "stdout",
     "output_type": "stream",
     "text": [
      "البته! به عنوان یک آشپز متخصص در غذاهای گیاهی 20 دقیقه‌ای، با کمال میل یه پیشنهاد شام خوشمزه و سریع رو بهت میدم:\n",
      "\n",
      "**شام: پاستا پستو با گوجه گیلاسی و فلفل دلمه‌ای**\n",
      "\n",
      "این غذا نه تنها فوق‌العاده سریع آماده میشه، بلکه سرشار از طعم و رنگه و یه شام گیاهی کاملاً رضایت‌بخش و خوشمزه است.\n",
      "\n",
      "**مواد لازم:**\n",
      "\n",
      "*   **پاستا:** 200 گرم (پاستای دلخواه، ترجیحاً پاستاهای کوتاه مثل پنه یا فارفاله که زودتر میپزن)\n",
      "*   **گوجه گیلاسی:** 250 گرم، نصف شده\n",
      "*   **فلفل دلمه‌ای:** 1 عدد (ترجیحاً رنگی مثل قرمز یا زرد)، خرد شده\n",
      "*   **پستو:** 2-3 قاشق غذاخوری (پستوی آماده یا پستوی خانگی)\n",
      "*   **سیر:** 1 حبه، رنده شده (اختیاری)\n",
      "*   **روغن زیتون:** 1-2 قاشق غذاخوری\n",
      "*   **پنیر پارمزان یا پنیر گیاهی (اختیاری):** برای تزئین\n",
      "*   **ریحان تازه (اختیاری):** برای تزئین\n",
      "*   **نمک و فلفل:** به میزان لازم\n",
      "\n",
      "**طرز تهیه:**\n",
      "\n",
      "1.  **آماده‌سازی پاستا:** قابلمه بزرگی رو از آب پر کنید و بذارید بجوشه. به آب نمک اضافه کنید (مقدار نمک باید زیاد باشه، مثل آب دریا). پاستا رو به آب جوش اضافه کنید و طبق دستورالعمل روی بسته‌بندی، بپزید. معمولاً 8-10 دقیقه کافیه.\n",
      "2.  **آماده‌سازی سبزیجات:** در حالی که پاستا در حال پختنه، فلفل دلمه‌ای خرد شده و گوجه گیلاسی نصف شده رو آماده کنید.\n",
      "3.  **تفت دادن سبزیجات:** یک تابه بزرگ رو روی حرارت متوسط رو به بالا بذارید. روغن زیتون رو اضافه کنید. اگه دوست دارید، سیر رنده شده رو حدود 30 ثانیه تفت بدید تا عطرش بلند شه (مواظب باشید نسوزه). فلفل دلمه‌ای رو اضافه کنید و حدود 3-4 دقیقه تفت بدید تا کمی نرم بشه و رنگش عوض بشه. گوجه گیلاسی‌ها رو اضافه کنید و 2-3 دقیقه دیگه تفت بدید تا کمی نرم بشن و آبشون کمی تبخیر بشه.\n",
      "4.  **ترکیب کردن مواد:** وقتی پاستا پخته شد، آبکش کنید و کمی از آب پاستا (حدود نصف پیمانه) رو نگه دارید. پاستا رو به تابه اضافه کنید. پستو رو اضافه کنید و خوب هم بزنید تا پاستا به پستو آغشته بشه. اگه سس غلیظ بود، کمی از آب پاستا رو اضافه کنید تا سس رقیق‌تر بشه.\n",
      "5.  **سرو کردن:** پاستا رو در بشقاب بریزید. در صورت تمایل، با پنیر پارمزان یا پنیر گیاهی رنده شده و ریحان تازه تزئین کنید. کمی فلفل سیاه تازه آسیاب شده هم اضافه کنید و بلافاصله سرو کنید.\n",
      "\n",
      "**نکات:**\n",
      "\n",
      "*   برای سرعت بیشتر، می‌تونید از پستوی آماده استفاده کنید.\n",
      "*   برای تنوع، می‌تونید از سبزیجات دیگه مثل کدو سبز یا قارچ هم استفاده کنید.\n",
      "*   اگه دوست دارید، کمی فلفل قرمز خرد شده هم موقع تفت دادن سبزیجات اضافه کنید تا غذا کمی تند بشه.\n",
      "*   این غذا رو می‌تونید گرم یا سرد سرو کنید.\n",
      "*   اگه گیاهخوار نیستید، می‌تونید مقداری مرغ گریل شده یا میگو پخته شده هم به این غذا اضافه کنید.\n",
      "\n",
      "**امیدوارم از این شام سریع و خوشمزه لذت ببرید! نوش جان!**\n",
      "\n"
     ]
    }
   ],
   "source": [
    "print(result.content)"
   ]
  },
  {
   "cell_type": "markdown",
   "id": "ae918d94-2722-4cfd-a546-54ee58f625b8",
   "metadata": {
    "jp-MarkdownHeadingCollapsed": true
   },
   "source": [
    "## exercise"
   ]
  },
  {
   "cell_type": "code",
   "execution_count": 57,
   "id": "54aa2e1d-0429-41a4-854d-40477a9bb7ff",
   "metadata": {},
   "outputs": [],
   "source": [
    "def travel_idea(interest: str, budget: str) -> str:\n",
    "    '''\n",
    "    travel idea:\\n\n",
    "        Please enter your desired arguments so I can create an ideal travel plan for you.\n",
    "    '''\n",
    "    pass\n",
    "\n",
    "\n",
    "travel_idea()"
   ]
  },
  {
   "cell_type": "code",
   "execution_count": 63,
   "id": "c80b2ea7-07a0-430c-b31e-177c493f84b2",
   "metadata": {},
   "outputs": [],
   "source": [
    "def travel_idea(interest: str, budget: str) -> str:\n",
    "    '''\n",
    "    travel idea:\\n\n",
    "        Please enter your desired arguments so I can create an ideal travel plan for you.\n",
    "    '''\n",
    "    system_template = 'With a budget of {budget} and a destination of {interest}, suggest an ideal itinerary for me like an experienced and skilled person.'\n",
    "    system_message = SystemMessagePromptTemplate.from_template(system_template)\n",
    "\n",
    "    human_template = '{req}'\n",
    "    human_message = HumanMessagePromptTemplate.from_template(human_template)\n",
    "\n",
    "    chat_prompt = ChatPromptTemplate.from_messages([system_message, human_message])\n",
    "    prompt = chat_prompt.format_prompt(\n",
    "        interest=interest,\n",
    "        budget=budget,\n",
    "        req='Plan a trip for me.'\n",
    "    ).to_messages()\n",
    "\n",
    "    result = chat(prompt)\n",
    "    return result.content"
   ]
  },
  {
   "cell_type": "code",
   "execution_count": 64,
   "id": "b7bfef4b-1ca3-4aff-9ff3-deae78c4e293",
   "metadata": {},
   "outputs": [
    {
     "name": "stdout",
     "output_type": "stream",
     "text": [
      "Okay, let's craft an amazing coastal trip itinerary for you with a $20,000 budget! This itinerary will focus on a blend of relaxation, exploration, and some luxury, aimed at giving you an unforgettable coastal experience.  I'll tailor this assuming you enjoy beautiful scenery, good food, comfortable accommodation, and a bit of culture.\n",
      "\n",
      "**Trip Duration:** 21 Days (3 weeks)\n",
      "\n",
      "**Destination:**  The Amalfi Coast, Italy (for its stunning beauty and balance of culture, food, and relaxation) plus some time in Rome to start and end the trip\n",
      "\n",
      "**Budget Breakdown:**\n",
      "\n",
      "*   **Flights (International & Domestic):** $3,000\n",
      "*   **Accommodation:** $7,500 (Mid-range hotels/villas, some nights with extra luxury)\n",
      "*   **Transportation (Trains, Ferries, Private Transfers, Car Rental):** $3,000\n",
      "*   **Food & Drink:** $4,500 (Includes restaurant meals, cooking classes, market visits)\n",
      "*   **Activities & Excursions:** $2,000 (Tours, boat trips, entrance fees)\n",
      "*   **Miscellaneous (Souvenirs, tips, travel insurance etc.):** $1,000\n",
      "\n",
      "**Detailed Itinerary:**\n",
      "\n",
      "**Days 1-3: Rome - Arrival & Ancient Wonders**\n",
      "\n",
      "*   **Flights:** Fly into Rome (FCO)\n",
      "*   **Accommodation:**  Hotel in the Monti neighborhood (charming and central) or a boutique hotel near the Pantheon.  $350/night (total: ~$1,050)\n",
      "*   **Activities:**\n",
      "    *   **Day 1:** Arrive, transfer to hotel (consider a private car for ease, ~$80).  Afternoon:  Relax, adjust to the time difference, and enjoy a leisurely dinner in Monti.\n",
      "    *   **Day 2:** Colosseum & Roman Forum (book a guided tour to skip the line and get the most out of it - highly recommended, ~$100 per person).  Lunch: Trastevere neighborhood, known for authentic Roman cuisine.  Afternoon:  Pantheon, Trevi Fountain, Spanish Steps.  Evening:  Cooking Class (learn to make pasta and other Roman specialties, ~$150 per person).\n",
      "    *   **Day 3:** Vatican City (book a guided tour of the Vatican Museums and St. Peter's Basilica well in advance – a must-do, ~$80).  Lunch near Vatican. Afternoon: Castel Sant'Angelo. Evening: Enjoy a traditional Roman dinner\n",
      "\n",
      "*   **Food:** Enjoy authentic pasta, pizza, gelato, and of course, Roman coffee.\n",
      "\n",
      "**Days 4-6: Travel to Amalfi Coast and Positano Charm**\n",
      "\n",
      "*   **Transportation:** High-speed train from Rome to Naples (approx. 1 hour 10min, ~$70).  Private transfer from Naples to Positano (scenic, but expect a winding road and some travel time, 1.5-2 hrs, ~$300).\n",
      "*   **Accommodation:** Hotel with a sea view in Positano. (average $600/night, total $1,800)\n",
      "*   **Activities:**\n",
      "    *   **Day 4:** Arrive in Positano, check into your hotel. Explore the village, known for its colorful buildings and steep, winding streets. Relax by the beach. Have dinner at a restaurant overlooking the sea.\n",
      "    *   **Day 5:** Boat trip along the Amalfi Coast. Visit the Grotta dello Smeraldo (Emerald Grotto), swim in hidden coves, and visit the towns of Amalfi and/or Capri (optional).  ($200-$400 depending on the type of tour/boat).\n",
      "    *   **Day 6:** Hike the Path of the Gods (Sentiero degli Dei) for breathtaking views or take a cooking class in Positano focused on local cuisine and seafood.  Afternoon: Beach time.  Enjoy a sunset aperitivo.\n",
      "\n",
      "*   **Food:** Fresh seafood, lemon-infused everything (limoncello is a must!), and delicious local wines. Try the sfogliatella pastries.\n",
      "\n",
      "**Days 7-9: Amalfi & Ravello - History, Gardens & Culture**\n",
      "\n",
      "*   **Transportation:**  Ferry to Amalfi (short and scenic, ~$20).  Bus or taxi to Ravello (approx. 30-45 min, ~$20).\n",
      "*   **Accommodation:** Hotel with a view in Ravello (known for its tranquility and gardens). average cost $550/night, total $1650\n",
      "*   **Activities:**\n",
      "    *   **Day 7:** Explore Amalfi: visit the Duomo and the Piazza del Duomo.  Enjoy the bustling atmosphere. Take a lemon grove tour\n",
      "    *   **Day 8:** Visit Villa Rufolo and Villa Cimbrone in Ravello, known for their stunning gardens and panoramic views. Enjoy the views from the Terrazza dell'Infinito (Terrace of Infinity). Have dinner at a restaurant in Ravello.\n",
      "    *   **Day 9:** Enjoy a day trip to the island of Capri (boat, ~$60), visit the Blue Grotto (weather permitting), and explore the town of Capri.\n",
      "\n",
      "*   **Food:** Try the local limoncello, seafood dishes, and the regional pasta specialties.\n",
      "\n",
      "**Days 10-12: Sorrento - Buzzing Town & Archaeological Wonders**\n",
      "\n",
      "*   **Transportation:** Private transfer from Ravello to Sorrento(approx. 2 hours).\n",
      "*   **Accommodation:** Hotel in Sorrento with sea view. $500/night total cost : $1500\n",
      "*   **Activities:**\n",
      "    *   **Day 10:** Settle in and explore Sorrento. Wander through the historic center with its narrow streets, shops, and cafes.\n",
      "    *   **Day 11:** Day trip to Pompeii and Herculaneum, the ancient Roman cities destroyed by Mount Vesuvius. (train from Sorrento and guided tour ~$150/person).\n",
      "    *   **Day 12:**  Enjoy a limoncello factory tour and tasting.  Optional: Explore the cloisters, the Piazza Tasso, or take a cooking course focused on Neapolitan cuisine.\n",
      "\n",
      "*   **Food:** Pizza, pasta, and local specialities. Be sure to try some of the local liquors.\n",
      "\n",
      "**Days 13-14: Relaxation in Sorrento**\n",
      "\n",
      "*   **Accommodation:**  Stick with the hotel in Sorrento.\n",
      "*   **Activities:**\n",
      "    *   **Day 13:** Spend time at a beach club or spa in Sorrento. Consider a massage or other treatments. Enjoy a relaxing day by the sea.\n",
      "    *   **Day 14:**  Enjoy a shopping day, perhaps buy some souvenirs, and relax at a café.\n",
      "\n",
      "*   **Food:** Indulge in gelato and other Italian treats.\n",
      "\n",
      "**Days 15-17: Explore Naples & Ischia**\n",
      "\n",
      "*   **Transportation:** Train from Sorrento to Naples.  Ferry from Naples to Ischia (approx. 1 hour).\n",
      "*   **Accommodation:** Hotel in Ischia, known for its thermal baths. (Cost - $500/night, total $1500)\n",
      "*   **Activities:**\n",
      "    *   **Day 15:** Explore the authentic city of Naples, visit the underground tunnels and discover the local culture.\n",
      "    *   **Day 16:** Explore the island of Ischia. Enjoy the thermal spas and gardens at the Poseidon Thermal Gardens.\n",
      "    *   **Day 17:** Explore the Castello Aragonese and other historic sites in Ischia.\n",
      "\n",
      "*   **Food:** Try pizza in Naples. Fresh seafood and local specialities in Ischia.\n",
      "\n",
      "**Days 18-20: Back to Rome for Farewell Exploration**\n",
      "\n",
      "*   **Transportation:** Ferry from Ischia to Naples, then high-speed train back to Rome. (approx. $100).\n",
      "*   **Accommodation:** Return to your Rome hotel (or choose a different location for variety), $350/night, total cost: $1050\n",
      "*   **Activities:**\n",
      "    *   **Day 18:**  Recover from travel.  Explore a new part of Rome you didn't see earlier (e.g., the Borghese Gallery and Gardens – book tickets well in advance!), or revisit a favorite spot\n",
      "    *   **Day 19:**  Visit the Pantheon and local shops. Enjoy a final Italian dinner.\n",
      "    *   **Day 20:** Enjoy a final Roman breakfast and go shopping before your flight.\n",
      "\n",
      "*   **Food:** Make the most of your final meals in Italy, trying different trattorias and enjoying the local atmosphere.\n",
      "\n",
      "**Day 21: Departure**\n",
      "\n",
      "*   **Transportation:** Private transfer to FCO Airport.  Departure flight.\n",
      "\n",
      "**Important Notes & Considerations:**\n",
      "\n",
      "*   **Book in Advance:**  Flights, accommodations, and popular tours (Vatican, Colosseum, boat trips) should be booked well in advance, especially if traveling during peak season (Summer/late Spring).\n",
      "*   **Travel Insurance:** Purchase comprehensive travel insurance that includes medical coverage, trip cancellation, and baggage loss.\n",
      "*   **Currency:**  Euros (EUR).  Inform your bank before you travel about your trip to avoid any issues with your cards.\n",
      "*   **Packing:** Pack light clothing, comfortable walking shoes, swimwear, and layers for cooler evenings, Sunscreen, hats, sunglasses.\n",
      "*   **Flexibility:** This itinerary is a suggestion; feel free to adjust it based on your interests and preferences.\n",
      "*   **Budget Management:** Be mindful of your spending! Restaurants can be expensive, especially in touristy areas. Look for trattorias (family-run restaurants) for more affordable options.\n",
      "\n",
      "This itinerary offers a good balance of luxury, culture, and relaxation, all while staying within your budget. Enjoy your amazing coastal trip!\n",
      "\n"
     ]
    }
   ],
   "source": [
    "print(travel_idea('Coastal trip', '20000$'))"
   ]
  },
  {
   "cell_type": "markdown",
   "id": "cf15ed76-b522-4786-ba0c-59e544776a84",
   "metadata": {
    "jp-MarkdownHeadingCollapsed": true
   },
   "source": [
    "## few shot prompt template"
   ]
  },
  {
   "cell_type": "code",
   "execution_count": 65,
   "id": "304caa29-9849-4c03-b3e3-0428cce72bac",
   "metadata": {},
   "outputs": [],
   "source": [
    "system_template = \"You are a helpful assistant that translates complex legal terms into plain and understandable terms.\"\n",
    "system_message = SystemMessagePromptTemplate.from_template(system_template)"
   ]
  },
  {
   "cell_type": "code",
   "execution_count": 66,
   "id": "a4dbe2b2-486f-45da-9164-7a72b8a581f0",
   "metadata": {},
   "outputs": [],
   "source": [
    "legal_text = \"The provisions herein shall be severable, and if any provision or portion thereof is deemed invalid, illegal, or unenforceable by a court of competent jurisdiction, the remaining provisions or portions thereof shall remain in full force and effect to the maximum extent permitted by law.\"\n",
    "example_input_one = HumanMessagePromptTemplate.from_template(legal_text)\n",
    "\n",
    "human_template = '{legal_text}'\n",
    "human_message = HumanMessagePromptTemplate.from_template(legal_text)\n",
    "\n",
    "plain_text = \"The rules in this agreement can be separated. If a court decides that one rule or part of it is not valid, illegal, or cannot be enforced, the other rules will still apply and be enforced as much as they can under the law.\"\n",
    "example_output_one = AIMessagePromptTemplate.from_template(plain_text)"
   ]
  },
  {
   "cell_type": "code",
   "execution_count": 67,
   "id": "c3c73ecc-16ed-42f2-a01f-3fee57872b0a",
   "metadata": {},
   "outputs": [],
   "source": [
    "chat_prompt = ChatPromptTemplate.from_messages(\n",
    "    [system_message, example_input_one, example_output_one, human_message]\n",
    ")"
   ]
  },
  {
   "cell_type": "code",
   "execution_count": 73,
   "id": "e11b75d8-1478-48a4-a136-5ee424221d72",
   "metadata": {},
   "outputs": [],
   "source": [
    "some_example_text = \"The grantor, being the fee simple owner of the real property herein described, conveys and warrants to the grantee, his heirs and assigns, all of the grantor's right, title, and interest in and to the said property, subject to all existing encumbrances, liens, and easements, as recorded in the official records of the county, and any applicable covenants, conditions, and restrictions affecting the property, in consideration of the sum of [purchase price] paid by the grantee.\"\n",
    "\n",
    "req = chat_prompt.format_prompt(legal_text=some_example_text).to_messages()"
   ]
  },
  {
   "cell_type": "code",
   "execution_count": 74,
   "id": "b945ffb2-f812-41e6-a4df-68d915d02f1a",
   "metadata": {},
   "outputs": [],
   "source": [
    "result = chat(req)"
   ]
  },
  {
   "cell_type": "code",
   "execution_count": 76,
   "id": "9d49c1e2-b366-4ace-b1ff-fe69e159d450",
   "metadata": {},
   "outputs": [
    {
     "name": "stdout",
     "output_type": "stream",
     "text": [
      "Okay, let's break that down:\n",
      "\n",
      "*   **\"The provisions herein shall be severable...\"** - This means that the different parts (or \"provisions\") of this agreement are meant to be treated as separate and independent from one another. They're not all so intertwined that if one fails, it brings the whole agreement down.\n",
      "\n",
      "*   **\"...and if any provision or portion thereof is deemed invalid, illegal, or unenforceable by a court of competent jurisdiction...\"** - This is saying: If a court with the authority to make a decision (a \"court of competent jurisdiction\") decides that a specific rule or part of a rule in this agreement is:\n",
      "\n",
      "    *   **Invalid:** Not legally sound or effective.\n",
      "    *   **Illegal:** Against the law.\n",
      "    *   **Unenforceable:** Cannot be legally carried out or made to happen.\n",
      "\n",
      "*   **\"...the remaining provisions or portions thereof shall remain in full force and effect to the maximum extent permitted by law.\"** - This is the key part. It means: Even if one part of the agreement is struck down (declared invalid, illegal, or unenforceable), the rest of the agreement (the other provisions or parts of provisions) will still be valid and will still be followed. They will continue to be in effect to the fullest extent that the law allows.\n",
      "\n",
      "**In simpler terms:**\n",
      "\n",
      "This clause is saying: \"This agreement is designed so that if one part of it is found to be bad or unusable by a court, the rest of the agreement will still work and be followed as much as possible.\" It's a way of protecting the overall validity and effectiveness of the agreement. They want to ensure that even if a small part is problematic, the whole arrangement doesn't fall apart.\n",
      "\n"
     ]
    }
   ],
   "source": [
    "print(result.content)"
   ]
  },
  {
   "cell_type": "markdown",
   "id": "f3580795-75f5-4da0-9093-587c57c05570",
   "metadata": {
    "jp-MarkdownHeadingCollapsed": true
   },
   "source": [
    "## parsing outputs"
   ]
  },
  {
   "cell_type": "markdown",
   "id": "a3b86c72-40ef-4518-9d04-8c53ecca589a",
   "metadata": {
    "jp-MarkdownHeadingCollapsed": true
   },
   "source": [
    "### part one - outputs list"
   ]
  },
  {
   "cell_type": "code",
   "execution_count": 84,
   "id": "57021169-3d7e-4ffa-8c4a-d642dae0734b",
   "metadata": {},
   "outputs": [],
   "source": [
    "output_parser = CommaSeparatedListOutputParser()"
   ]
  },
  {
   "cell_type": "code",
   "execution_count": 85,
   "id": "38886f3f-fb09-452d-a713-f58873b5137d",
   "metadata": {},
   "outputs": [
    {
     "data": {
      "text/plain": [
       "'Your response should be a list of comma separated values, eg: `foo, bar, baz` or `foo,bar,baz`'"
      ]
     },
     "execution_count": 85,
     "metadata": {},
     "output_type": "execute_result"
    }
   ],
   "source": [
    "output_parser.get_format_instructions()"
   ]
  },
  {
   "cell_type": "code",
   "execution_count": 92,
   "id": "6b728940-a283-4b7d-be71-8f5c1faf9fdc",
   "metadata": {},
   "outputs": [],
   "source": [
    "human_message = HumanMessagePromptTemplate.from_template('{req}\\n{formattt}')"
   ]
  },
  {
   "cell_type": "code",
   "execution_count": 96,
   "id": "a3ef96a3-7645-471b-adbc-2d567cac933b",
   "metadata": {},
   "outputs": [],
   "source": [
    "chat_prompt = ChatPromptTemplate.from_messages([human_message])\n",
    "\n",
    "model_req = chat_prompt.format_prompt(\n",
    "    req='give me 5 characteristics of dogs',\n",
    "    formattt=output_parser.get_format_instructions()\n",
    ").to_messages()"
   ]
  },
  {
   "cell_type": "code",
   "execution_count": 98,
   "id": "d4a00c1b-5ee3-4c32-9fc2-1e9cb87eb851",
   "metadata": {},
   "outputs": [],
   "source": [
    "result = chat(model_req)"
   ]
  },
  {
   "cell_type": "code",
   "execution_count": 101,
   "id": "06933d2a-abac-4e66-aeb5-029c4637b8d2",
   "metadata": {},
   "outputs": [
    {
     "name": "stdout",
     "output_type": "stream",
     "text": [
      "Loyalty, Playfulness, Intelligence, Affection, Sociability\n",
      "\n",
      "<class 'str'>\n"
     ]
    }
   ],
   "source": [
    "print(result.content)\n",
    "print(type(result.content))"
   ]
  },
  {
   "cell_type": "code",
   "execution_count": 104,
   "id": "cd2a1fa6-4bbb-4e19-a4ba-6bd446f27832",
   "metadata": {},
   "outputs": [
    {
     "name": "stdout",
     "output_type": "stream",
     "text": [
      "['Loyalty', 'Playfulness', 'Intelligence', 'Affection', 'Sociability']\n",
      "<class 'list'>\n"
     ]
    }
   ],
   "source": [
    "print(output_parser.parse(result.content))\n",
    "print(type(     output_parser.parse(result.content)    ))"
   ]
  },
  {
   "cell_type": "markdown",
   "id": "0aeca394-3680-40ac-8100-3acf07d61a0e",
   "metadata": {},
   "source": [
    "### part two - outputs datetime"
   ]
  },
  {
   "cell_type": "code",
   "execution_count": 107,
   "id": "2d2608cd-301c-43a5-afbd-3d287e73012d",
   "metadata": {},
   "outputs": [],
   "source": [
    "output_parser = DatetimeOutputParser()"
   ]
  },
  {
   "cell_type": "code",
   "execution_count": 109,
   "id": "155b0d25-33e1-4a84-820b-6a2ece3ad38f",
   "metadata": {},
   "outputs": [
    {
     "data": {
      "text/plain": [
       "\"Write a datetime string that matches the following pattern: '%Y-%m-%dT%H:%M:%S.%fZ'.\\n\\nExamples: 1099-03-29T18:57:41.791687Z, 1451-05-17T07:52:19.122498Z, 0007-08-20T14:07:10.860989Z\\n\\nReturn ONLY this string, no other words!\""
      ]
     },
     "execution_count": 109,
     "metadata": {},
     "output_type": "execute_result"
    }
   ],
   "source": [
    "output_parser.get_format_instructions()"
   ]
  },
  {
   "cell_type": "code",
   "execution_count": 112,
   "id": "45400bd2-6c2f-4b37-b71b-1b6b3b0ae0cc",
   "metadata": {},
   "outputs": [],
   "source": [
    "human_message = HumanMessagePromptTemplate.from_template(\"{request}\\n{format_instructions}\")"
   ]
  },
  {
   "cell_type": "code",
   "execution_count": 113,
   "id": "3f6d8fe5-f23c-4872-be15-4f4efe0aa36f",
   "metadata": {},
   "outputs": [],
   "source": [
    "system_message = SystemMessagePromptTemplate.from_template('The output should be just a standard date time.')"
   ]
  },
  {
   "cell_type": "code",
   "execution_count": 114,
   "id": "4ab931a7-3f99-4117-bb1e-b46656874751",
   "metadata": {},
   "outputs": [],
   "source": [
    "chat_prompt = ChatPromptTemplate.from_messages(\n",
    "    [human_message, system_message]\n",
    ")"
   ]
  },
  {
   "cell_type": "code",
   "execution_count": 115,
   "id": "d003e6eb-cf09-4017-a212-219f7661777e",
   "metadata": {},
   "outputs": [],
   "source": [
    "model_req = chat_prompt.format_prompt(\n",
    "    request='When was the 13th Amendment ratified in the US?',\n",
    "    format_instructions=output_parser.get_format_instructions()\n",
    ").to_messages()"
   ]
  },
  {
   "cell_type": "code",
   "execution_count": 116,
   "id": "77a1e719-3f05-4523-94d8-1dc9b6cf77f1",
   "metadata": {},
   "outputs": [],
   "source": [
    "result = chat(model_req)"
   ]
  },
  {
   "cell_type": "code",
   "execution_count": 118,
   "id": "07d39c08-a243-4c71-9482-ee8f4fcb2f6e",
   "metadata": {},
   "outputs": [
    {
     "name": "stdout",
     "output_type": "stream",
     "text": [
      "1865-12-06T00:00:00.000000Z\n",
      "\n",
      "<class 'str'>\n"
     ]
    }
   ],
   "source": [
    "print(result.content)\n",
    "print(type(  result.content  ))"
   ]
  },
  {
   "cell_type": "code",
   "execution_count": 120,
   "id": "1620a078-b1e7-49dc-ae69-a3aa14de648f",
   "metadata": {},
   "outputs": [
    {
     "name": "stdout",
     "output_type": "stream",
     "text": [
      "1865-12-06 00:00:00\n",
      "<class 'datetime.datetime'>\n"
     ]
    }
   ],
   "source": [
    "print(output_parser.parse(result.content))\n",
    "print(type(   output_parser.parse(result.content)    ))"
   ]
  },
  {
   "cell_type": "code",
   "execution_count": 122,
   "id": "41ca01f4-18dd-45e8-87e2-263039aaaaf5",
   "metadata": {},
   "outputs": [
    {
     "data": {
      "text/plain": [
       "datetime.datetime(1865, 12, 6, 0, 0)"
      ]
     },
     "execution_count": 122,
     "metadata": {},
     "output_type": "execute_result"
    }
   ],
   "source": [
    "# fix output with OutputFixingParser\n",
    "\n",
    "result_final = result.content\n",
    "\n",
    "fix_parser = OutputFixingParser.from_llm(parser=output_parser, llm=chat)\n",
    "\n",
    "fix_parser.parse(result_final)"
   ]
  }
 ],
 "metadata": {
  "kernelspec": {
   "display_name": "Python 3 (ipykernel)",
   "language": "python",
   "name": "python3"
  },
  "language_info": {
   "codemirror_mode": {
    "name": "ipython",
    "version": 3
   },
   "file_extension": ".py",
   "mimetype": "text/x-python",
   "name": "python",
   "nbconvert_exporter": "python",
   "pygments_lexer": "ipython3",
   "version": "3.11.1"
  }
 },
 "nbformat": 4,
 "nbformat_minor": 5
}
